{
 "cells": [
  {
   "cell_type": "markdown",
   "metadata": {
    "_uuid": "92b885dd147dac19bd0a33db3cd0da100bd5bc23"
   },
   "source": [
    "# Twitter Sentiment Analysis"
   ]
  },
  {
   "cell_type": "code",
   "execution_count": 1,
   "metadata": {
    "_uuid": "70282bce8b42a51e4d44f2c7d85c4ca9567b0fd4"
   },
   "outputs": [
    {
     "name": "stdout",
     "output_type": "stream",
     "text": [
      "Collecting gensim\n",
      "  Downloading gensim-4.3.1-cp39-cp39-win_amd64.whl (24.0 MB)\n",
      "Collecting smart-open>=1.8.1\n",
      "  Downloading smart_open-6.3.0-py3-none-any.whl (56 kB)\n",
      "Requirement already satisfied: scipy>=1.7.0 in c:\\users\\okazm\\anaconda3\\lib\\site-packages (from gensim) (1.7.1)\n",
      "Requirement already satisfied: numpy>=1.18.5 in c:\\users\\okazm\\anaconda3\\lib\\site-packages (from gensim) (1.19.3)\n",
      "Installing collected packages: smart-open, gensim\n",
      "Successfully installed gensim-4.3.1 smart-open-6.3.0\n"
     ]
    },
    {
     "name": "stderr",
     "output_type": "stream",
     "text": [
      "WARNING: Ignoring invalid distribution -orch (c:\\users\\okazm\\anaconda3\\lib\\site-packages)\n",
      "WARNING: Ignoring invalid distribution -orch (c:\\users\\okazm\\anaconda3\\lib\\site-packages)\n",
      "WARNING: Ignoring invalid distribution -orch (c:\\users\\okazm\\anaconda3\\lib\\site-packages)\n",
      "WARNING: Ignoring invalid distribution -orch (c:\\users\\okazm\\anaconda3\\lib\\site-packages)\n",
      "WARNING: Ignoring invalid distribution -orch (c:\\users\\okazm\\anaconda3\\lib\\site-packages)\n",
      "WARNING: Ignoring invalid distribution -orch (c:\\users\\okazm\\anaconda3\\lib\\site-packages)\n",
      "WARNING: Ignoring invalid distribution -orch (c:\\users\\okazm\\anaconda3\\lib\\site-packages)\n",
      "WARNING: Ignoring invalid distribution -orch (c:\\users\\okazm\\anaconda3\\lib\\site-packages)\n"
     ]
    },
    {
     "name": "stdout",
     "output_type": "stream",
     "text": [
      "Collecting keras\n"
     ]
    },
    {
     "name": "stderr",
     "output_type": "stream",
     "text": [
      "WARNING: Ignoring invalid distribution -orch (c:\\users\\okazm\\anaconda3\\lib\\site-packages)\n",
      "WARNING: Ignoring invalid distribution -orch (c:\\users\\okazm\\anaconda3\\lib\\site-packages)\n",
      "WARNING: Ignoring invalid distribution -orch (c:\\users\\okazm\\anaconda3\\lib\\site-packages)\n",
      "WARNING: Ignoring invalid distribution -orch (c:\\users\\okazm\\anaconda3\\lib\\site-packages)\n",
      "WARNING: Ignoring invalid distribution -orch (c:\\users\\okazm\\anaconda3\\lib\\site-packages)\n",
      "WARNING: Ignoring invalid distribution -orch (c:\\users\\okazm\\anaconda3\\lib\\site-packages)\n"
     ]
    },
    {
     "name": "stdout",
     "output_type": "stream",
     "text": [
      "  Downloading keras-2.12.0-py2.py3-none-any.whl (1.7 MB)\n",
      "Installing collected packages: keras\n",
      "Successfully installed keras-2.12.0\n"
     ]
    },
    {
     "name": "stderr",
     "output_type": "stream",
     "text": [
      "WARNING: Ignoring invalid distribution -orch (c:\\users\\okazm\\anaconda3\\lib\\site-packages)\n"
     ]
    },
    {
     "name": "stdout",
     "output_type": "stream",
     "text": [
      "Collecting keras.preprocessing\n",
      "  Downloading Keras_Preprocessing-1.1.2-py2.py3-none-any.whl (42 kB)\n",
      "Requirement already satisfied: six>=1.9.0 in c:\\users\\okazm\\anaconda3\\lib\\site-packages (from keras.preprocessing) (1.16.0)\n",
      "Requirement already satisfied: numpy>=1.9.1 in c:\\users\\okazm\\anaconda3\\lib\\site-packages (from keras.preprocessing) (1.19.3)\n",
      "Installing collected packages: keras.preprocessing\n",
      "Successfully installed keras.preprocessing-1.1.2\n"
     ]
    },
    {
     "name": "stderr",
     "output_type": "stream",
     "text": [
      "WARNING: Ignoring invalid distribution -orch (c:\\users\\okazm\\anaconda3\\lib\\site-packages)\n",
      "WARNING: Ignoring invalid distribution -orch (c:\\users\\okazm\\anaconda3\\lib\\site-packages)\n",
      "WARNING: Ignoring invalid distribution -orch (c:\\users\\okazm\\anaconda3\\lib\\site-packages)\n",
      "WARNING: Ignoring invalid distribution -orch (c:\\users\\okazm\\anaconda3\\lib\\site-packages)\n",
      "WARNING: Ignoring invalid distribution -orch (c:\\users\\okazm\\anaconda3\\lib\\site-packages)\n",
      "WARNING: Ignoring invalid distribution -orch (c:\\users\\okazm\\anaconda3\\lib\\site-packages)\n",
      "WARNING: Ignoring invalid distribution -orch (c:\\users\\okazm\\anaconda3\\lib\\site-packages)\n"
     ]
    },
    {
     "name": "stdout",
     "output_type": "stream",
     "text": [
      "Collecting keras.models\n",
      "  Downloading keras_models-0.0.7-py3-none-any.whl (18 kB)\n",
      "Requirement already satisfied: opencv-python in c:\\users\\okazm\\anaconda3\\lib\\site-packages (from keras.models) (4.5.1.48)\n",
      "Requirement already satisfied: numpy in c:\\users\\okazm\\anaconda3\\lib\\site-packages (from keras.models) (1.19.3)\n",
      "Collecting spacy\n",
      "  Downloading spacy-3.5.2-cp39-cp39-win_amd64.whl (12.2 MB)\n",
      "Requirement already satisfied: keras in c:\\users\\okazm\\anaconda3\\lib\\site-packages (from keras.models) (2.12.0)\n"
     ]
    },
    {
     "name": "stderr",
     "output_type": "stream",
     "text": [
      "WARNING: Ignoring invalid distribution -orch (c:\\users\\okazm\\anaconda3\\lib\\site-packages)\n",
      "WARNING: Ignoring invalid distribution -orch (c:\\users\\okazm\\anaconda3\\lib\\site-packages)\n",
      "WARNING: Ignoring invalid distribution -orch (c:\\users\\okazm\\anaconda3\\lib\\site-packages)\n",
      "    WARNING: Ignoring invalid distribution -orch (c:\\users\\okazm\\anaconda3\\lib\\site-packages)\n",
      "    WARNING: Ignoring invalid distribution -orch (c:\\users\\okazm\\anaconda3\\lib\\site-packages)\n",
      "WARNING: Ignoring invalid distribution -orch (c:\\users\\okazm\\anaconda3\\lib\\site-packages)\n",
      "WARNING: Ignoring invalid distribution -orch (c:\\users\\okazm\\anaconda3\\lib\\site-packages)\n",
      "WARNING: Ignoring invalid distribution -orch (c:\\users\\okazm\\anaconda3\\lib\\site-packages)\n",
      "WARNING: Ignoring invalid distribution -orch (c:\\users\\okazm\\anaconda3\\lib\\site-packages)\n",
      "WARNING: Ignoring invalid distribution -orch (c:\\users\\okazm\\anaconda3\\lib\\site-packages)\n",
      "WARNING: Ignoring invalid distribution -orch (c:\\users\\okazm\\anaconda3\\lib\\site-packages)\n",
      "WARNING: Ignoring invalid distribution -orch (c:\\users\\okazm\\anaconda3\\lib\\site-packages)\n",
      "WARNING: Ignoring invalid distribution -orch (c:\\users\\okazm\\anaconda3\\lib\\site-packages)\n"
     ]
    },
    {
     "name": "stdout",
     "output_type": "stream",
     "text": [
      "Requirement already satisfied: Pillow in c:\\users\\okazm\\anaconda3\\lib\\site-packages (from keras.models) (8.1.0)\n",
      "Collecting pathlib\n",
      "  Downloading pathlib-1.0.1-py3-none-any.whl (14 kB)\n",
      "Collecting wasabi<1.2.0,>=0.9.1\n",
      "  Downloading wasabi-1.1.1-py3-none-any.whl (27 kB)\n",
      "Requirement already satisfied: setuptools in c:\\users\\okazm\\anaconda3\\lib\\site-packages (from spacy->keras.models) (58.0.4)\n",
      "Collecting pydantic!=1.8,!=1.8.1,<1.11.0,>=1.7.4\n",
      "  Downloading pydantic-1.10.7-cp39-cp39-win_amd64.whl (2.2 MB)\n",
      "Collecting catalogue<2.1.0,>=2.0.6\n",
      "  Downloading catalogue-2.0.8-py3-none-any.whl (17 kB)\n",
      "Collecting spacy-legacy<3.1.0,>=3.0.11\n",
      "  Downloading spacy_legacy-3.0.12-py2.py3-none-any.whl (29 kB)\n",
      "Collecting spacy-loggers<2.0.0,>=1.0.0\n",
      "  Downloading spacy_loggers-1.0.4-py3-none-any.whl (11 kB)\n",
      "Requirement already satisfied: smart-open<7.0.0,>=5.2.1 in c:\\users\\okazm\\anaconda3\\lib\\site-packages (from spacy->keras.models) (6.3.0)\n",
      "Collecting langcodes<4.0.0,>=3.2.0\n",
      "  Downloading langcodes-3.3.0-py3-none-any.whl (181 kB)\n",
      "Collecting typer<0.8.0,>=0.3.0\n",
      "  Downloading typer-0.7.0-py3-none-any.whl (38 kB)\n",
      "Requirement already satisfied: requests<3.0.0,>=2.13.0 in c:\\users\\okazm\\anaconda3\\lib\\site-packages (from spacy->keras.models) (2.25.1)\n",
      "Requirement already satisfied: tqdm<5.0.0,>=4.38.0 in c:\\users\\okazm\\anaconda3\\lib\\site-packages (from spacy->keras.models) (4.56.0)\n",
      "Collecting cymem<2.1.0,>=2.0.2\n",
      "  Downloading cymem-2.0.7-cp39-cp39-win_amd64.whl (30 kB)\n",
      "Collecting pathy>=0.10.0\n",
      "  Downloading pathy-0.10.1-py3-none-any.whl (48 kB)\n",
      "Requirement already satisfied: jinja2 in c:\\users\\okazm\\anaconda3\\lib\\site-packages (from spacy->keras.models) (2.11.3)\n",
      "Collecting preshed<3.1.0,>=3.0.2\n",
      "  Downloading preshed-3.0.8-cp39-cp39-win_amd64.whl (96 kB)\n",
      "Collecting thinc<8.2.0,>=8.1.8\n",
      "  Downloading thinc-8.1.10-cp39-cp39-win_amd64.whl (1.5 MB)\n",
      "Requirement already satisfied: packaging>=20.0 in c:\\users\\okazm\\anaconda3\\lib\\site-packages (from spacy->keras.models) (21.0)\n",
      "Collecting srsly<3.0.0,>=2.4.3\n",
      "  Downloading srsly-2.4.6-cp39-cp39-win_amd64.whl (482 kB)\n",
      "Collecting murmurhash<1.1.0,>=0.28.0\n",
      "  Downloading murmurhash-1.0.9-cp39-cp39-win_amd64.whl (18 kB)\n",
      "Requirement already satisfied: pyparsing>=2.0.2 in c:\\users\\okazm\\anaconda3\\lib\\site-packages (from packaging>=20.0->spacy->keras.models) (3.0.4)\n",
      "Collecting typing-extensions>=4.2.0\n",
      "  Using cached typing_extensions-4.5.0-py3-none-any.whl (27 kB)\n",
      "Requirement already satisfied: chardet<5,>=3.0.2 in c:\\users\\okazm\\anaconda3\\lib\\site-packages (from requests<3.0.0,>=2.13.0->spacy->keras.models) (4.0.0)\n",
      "Requirement already satisfied: idna<3,>=2.5 in c:\\users\\okazm\\anaconda3\\lib\\site-packages (from requests<3.0.0,>=2.13.0->spacy->keras.models) (2.10)\n",
      "Requirement already satisfied: urllib3<1.27,>=1.21.1 in c:\\users\\okazm\\anaconda3\\lib\\site-packages (from requests<3.0.0,>=2.13.0->spacy->keras.models) (1.26.7)\n",
      "Requirement already satisfied: certifi>=2017.4.17 in c:\\users\\okazm\\anaconda3\\lib\\site-packages (from requests<3.0.0,>=2.13.0->spacy->keras.models) (2021.10.8)\n",
      "Collecting confection<1.0.0,>=0.0.1\n",
      "  Downloading confection-0.0.4-py3-none-any.whl (32 kB)\n",
      "Collecting blis<0.8.0,>=0.7.8\n",
      "  Downloading blis-0.7.9-cp39-cp39-win_amd64.whl (7.0 MB)\n",
      "Requirement already satisfied: click<9.0.0,>=7.1.1 in c:\\users\\okazm\\anaconda3\\lib\\site-packages (from typer<0.8.0,>=0.3.0->spacy->keras.models) (8.0.3)\n",
      "Requirement already satisfied: colorama in c:\\users\\okazm\\anaconda3\\lib\\site-packages (from click<9.0.0,>=7.1.1->typer<0.8.0,>=0.3.0->spacy->keras.models) (0.4.4)\n",
      "Collecting colorama\n",
      "  Using cached colorama-0.4.6-py2.py3-none-any.whl (25 kB)\n",
      "Requirement already satisfied: MarkupSafe>=0.23 in c:\\users\\okazm\\anaconda3\\lib\\site-packages (from jinja2->spacy->keras.models) (1.1.1)\n",
      "Installing collected packages: typing-extensions, colorama, catalogue, srsly, pydantic, murmurhash, cymem, wasabi, typer, preshed, confection, blis, thinc, spacy-loggers, spacy-legacy, pathy, langcodes, spacy, pathlib, keras.models\n",
      "  Attempting uninstall: typing-extensions\n",
      "    Found existing installation: typing-extensions 3.10.0.2\n",
      "    Uninstalling typing-extensions-3.10.0.2:\n",
      "      Successfully uninstalled typing-extensions-3.10.0.2\n",
      "  Attempting uninstall: colorama\n",
      "    Found existing installation: colorama 0.4.4\n",
      "    Uninstalling colorama-0.4.4:\n",
      "      Successfully uninstalled colorama-0.4.4\n",
      "Successfully installed blis-0.7.9 catalogue-2.0.8 colorama-0.4.6 confection-0.0.4 cymem-2.0.7 keras.models-0.0.7 langcodes-3.3.0 murmurhash-1.0.9 pathlib-1.0.1 pathy-0.10.1 preshed-3.0.8 pydantic-1.10.7 spacy-3.5.2 spacy-legacy-3.0.12 spacy-loggers-1.0.4 srsly-2.4.6 thinc-8.1.10 typer-0.7.0 typing-extensions-4.5.0 wasabi-1.1.1\n"
     ]
    },
    {
     "name": "stderr",
     "output_type": "stream",
     "text": [
      "WARNING: Ignoring invalid distribution -orch (c:\\users\\okazm\\anaconda3\\lib\\site-packages)\n",
      "WARNING: Ignoring invalid distribution -orch (c:\\users\\okazm\\anaconda3\\lib\\site-packages)\n",
      "WARNING: Ignoring invalid distribution -orch (c:\\users\\okazm\\anaconda3\\lib\\site-packages)\n",
      "WARNING: Ignoring invalid distribution -orch (c:\\users\\okazm\\anaconda3\\lib\\site-packages)\n",
      "WARNING: Ignoring invalid distribution -orch (c:\\users\\okazm\\anaconda3\\lib\\site-packages)\n",
      "WARNING: Ignoring invalid distribution -orch (c:\\users\\okazm\\anaconda3\\lib\\site-packages)\n",
      "WARNING: Ignoring invalid distribution -orch (c:\\users\\okazm\\anaconda3\\lib\\site-packages)\n",
      "WARNING: Ignoring invalid distribution -orch (c:\\users\\okazm\\anaconda3\\lib\\site-packages)\n",
      "WARNING: Ignoring invalid distribution -orch (c:\\users\\okazm\\anaconda3\\lib\\site-packages)\n",
      "WARNING: Ignoring invalid distribution -orch (c:\\users\\okazm\\anaconda3\\lib\\site-packages)\n",
      "WARNING: Ignoring invalid distribution -orch (c:\\users\\okazm\\anaconda3\\lib\\site-packages)\n",
      "WARNING: Ignoring invalid distribution -orch (c:\\users\\okazm\\anaconda3\\lib\\site-packages)\n",
      "WARNING: Ignoring invalid distribution -orch (c:\\users\\okazm\\anaconda3\\lib\\site-packages)\n",
      "WARNING: Ignoring invalid distribution -orch (c:\\users\\okazm\\anaconda3\\lib\\site-packages)\n",
      "WARNING: Ignoring invalid distribution -orch (c:\\users\\okazm\\anaconda3\\lib\\site-packages)\n"
     ]
    },
    {
     "name": "stdout",
     "output_type": "stream",
     "text": [
      "Collecting tensorflow\n",
      "  Downloading tensorflow-2.12.0-cp39-cp39-win_amd64.whl (1.9 kB)\n",
      "Collecting tensorflow-intel==2.12.0\n",
      "  Downloading tensorflow_intel-2.12.0-cp39-cp39-win_amd64.whl (272.8 MB)\n",
      "Collecting libclang>=13.0.0\n",
      "  Downloading libclang-16.0.0-py2.py3-none-win_amd64.whl (24.4 MB)\n",
      "Collecting tensorboard<2.13,>=2.12\n",
      "  Downloading tensorboard-2.12.3-py3-none-any.whl (5.6 MB)\n",
      "Collecting jax>=0.3.15\n",
      "  Downloading jax-0.4.8.tar.gz (1.2 MB)\n",
      "  Installing build dependencies: started\n",
      "  Installing build dependencies: finished with status 'done'\n",
      "  Getting requirements to build wheel: started\n",
      "  Getting requirements to build wheel: finished with status 'done'\n",
      "    Preparing wheel metadata: started\n",
      "    Preparing wheel metadata: finished with status 'done'\n",
      "Collecting protobuf!=4.21.0,!=4.21.1,!=4.21.2,!=4.21.3,!=4.21.4,!=4.21.5,<5.0.0dev,>=3.20.3\n",
      "  Downloading protobuf-4.23.0-cp39-cp39-win_amd64.whl (422 kB)\n",
      "Requirement already satisfied: keras<2.13,>=2.12.0 in c:\\users\\okazm\\anaconda3\\lib\\site-packages (from tensorflow-intel==2.12.0->tensorflow) (2.12.0)\n",
      "Requirement already satisfied: setuptools in c:\\users\\okazm\\anaconda3\\lib\\site-packages (from tensorflow-intel==2.12.0->tensorflow) (58.0.4)\n",
      "Requirement already satisfied: absl-py>=1.0.0 in c:\\users\\okazm\\anaconda3\\lib\\site-packages (from tensorflow-intel==2.12.0->tensorflow) (1.0.0)\n",
      "Collecting google-pasta>=0.1.1\n",
      "  Downloading google_pasta-0.2.0-py3-none-any.whl (57 kB)\n",
      "Collecting flatbuffers>=2.0\n",
      "  Downloading flatbuffers-23.3.3-py2.py3-none-any.whl (26 kB)\n",
      "Requirement already satisfied: packaging in c:\\users\\okazm\\anaconda3\\lib\\site-packages (from tensorflow-intel==2.12.0->tensorflow) (21.0)\n",
      "Collecting numpy<1.24,>=1.22\n",
      "  Downloading numpy-1.23.5-cp39-cp39-win_amd64.whl (14.7 MB)\n",
      "Requirement already satisfied: h5py>=2.9.0 in c:\\users\\okazm\\anaconda3\\lib\\site-packages (from tensorflow-intel==2.12.0->tensorflow) (3.2.1)\n",
      "Collecting tensorflow-io-gcs-filesystem>=0.23.1\n",
      "  Downloading tensorflow_io_gcs_filesystem-0.31.0-cp39-cp39-win_amd64.whl (1.5 MB)\n",
      "Requirement already satisfied: six>=1.12.0 in c:\\users\\okazm\\anaconda3\\lib\\site-packages (from tensorflow-intel==2.12.0->tensorflow) (1.16.0)\n",
      "Collecting tensorflow-estimator<2.13,>=2.12.0\n",
      "  Downloading tensorflow_estimator-2.12.0-py2.py3-none-any.whl (440 kB)\n",
      "Collecting gast<=0.4.0,>=0.2.1\n",
      "  Downloading gast-0.4.0-py3-none-any.whl (9.8 kB)\n",
      "Collecting astunparse>=1.6.0\n",
      "  Downloading astunparse-1.6.3-py2.py3-none-any.whl (12 kB)\n",
      "Collecting opt-einsum>=2.3.2\n",
      "  Downloading opt_einsum-3.3.0-py3-none-any.whl (65 kB)\n",
      "Requirement already satisfied: typing-extensions>=3.6.6 in c:\\users\\okazm\\anaconda3\\lib\\site-packages (from tensorflow-intel==2.12.0->tensorflow) (4.5.0)\n",
      "Requirement already satisfied: wrapt<1.15,>=1.11.0 in c:\\users\\okazm\\anaconda3\\lib\\site-packages (from tensorflow-intel==2.12.0->tensorflow) (1.12.1)\n",
      "Collecting grpcio<2.0,>=1.24.3\n",
      "  Downloading grpcio-1.54.0-cp39-cp39-win_amd64.whl (4.1 MB)\n",
      "Collecting termcolor>=1.1.0\n",
      "  Downloading termcolor-2.3.0-py3-none-any.whl (6.9 kB)\n",
      "Requirement already satisfied: wheel<1.0,>=0.23.0 in c:\\users\\okazm\\anaconda3\\lib\\site-packages (from astunparse>=1.6.0->tensorflow-intel==2.12.0->tensorflow) (0.37.0)\n",
      "Requirement already satisfied: scipy>=1.7 in c:\\users\\okazm\\anaconda3\\lib\\site-packages (from jax>=0.3.15->tensorflow-intel==2.12.0->tensorflow) (1.7.1)\n",
      "Collecting ml-dtypes>=0.0.3\n",
      "  Downloading ml_dtypes-0.1.0-cp39-cp39-win_amd64.whl (120 kB)\n",
      "Collecting numpy<1.24,>=1.22\n",
      "  Downloading numpy-1.22.4-cp39-cp39-win_amd64.whl (14.7 MB)\n",
      "Collecting markdown>=2.6.8\n",
      "  Downloading Markdown-3.4.3-py3-none-any.whl (93 kB)\n",
      "Collecting google-auth-oauthlib<1.1,>=0.5\n",
      "  Downloading google_auth_oauthlib-1.0.0-py2.py3-none-any.whl (18 kB)\n",
      "Collecting tensorboard-data-server<0.8.0,>=0.7.0\n",
      "  Downloading tensorboard_data_server-0.7.0-py3-none-any.whl (2.4 kB)\n",
      "Requirement already satisfied: werkzeug>=1.0.1 in c:\\users\\okazm\\anaconda3\\lib\\site-packages (from tensorboard<2.13,>=2.12->tensorflow-intel==2.12.0->tensorflow) (2.0.2)\n",
      "Requirement already satisfied: requests<3,>=2.21.0 in c:\\users\\okazm\\anaconda3\\lib\\site-packages (from tensorboard<2.13,>=2.12->tensorflow-intel==2.12.0->tensorflow) (2.25.1)\n",
      "Collecting google-auth<3,>=1.6.3\n",
      "  Downloading google_auth-2.17.3-py2.py3-none-any.whl (178 kB)\n",
      "Collecting cachetools<6.0,>=2.0.0\n",
      "  Downloading cachetools-5.3.0-py3-none-any.whl (9.3 kB)\n",
      "Collecting rsa<5,>=3.1.4\n",
      "  Downloading rsa-4.9-py3-none-any.whl (34 kB)\n",
      "Collecting pyasn1-modules>=0.2.1\n",
      "  Downloading pyasn1_modules-0.3.0-py2.py3-none-any.whl (181 kB)\n",
      "Collecting requests-oauthlib>=0.7.0\n",
      "  Downloading requests_oauthlib-1.3.1-py2.py3-none-any.whl (23 kB)\n",
      "Requirement already satisfied: importlib-metadata>=4.4 in c:\\users\\okazm\\anaconda3\\lib\\site-packages (from markdown>=2.6.8->tensorboard<2.13,>=2.12->tensorflow-intel==2.12.0->tensorflow) (4.8.1)\n",
      "Requirement already satisfied: zipp>=0.5 in c:\\users\\okazm\\anaconda3\\lib\\site-packages (from importlib-metadata>=4.4->markdown>=2.6.8->tensorboard<2.13,>=2.12->tensorflow-intel==2.12.0->tensorflow) (3.6.0)\n",
      "Collecting pyasn1<0.6.0,>=0.4.6\n",
      "  Downloading pyasn1-0.5.0-py2.py3-none-any.whl (83 kB)\n",
      "Requirement already satisfied: idna<3,>=2.5 in c:\\users\\okazm\\anaconda3\\lib\\site-packages (from requests<3,>=2.21.0->tensorboard<2.13,>=2.12->tensorflow-intel==2.12.0->tensorflow) (2.10)\n",
      "Requirement already satisfied: certifi>=2017.4.17 in c:\\users\\okazm\\anaconda3\\lib\\site-packages (from requests<3,>=2.21.0->tensorboard<2.13,>=2.12->tensorflow-intel==2.12.0->tensorflow) (2021.10.8)\n",
      "Requirement already satisfied: chardet<5,>=3.0.2 in c:\\users\\okazm\\anaconda3\\lib\\site-packages (from requests<3,>=2.21.0->tensorboard<2.13,>=2.12->tensorflow-intel==2.12.0->tensorflow) (4.0.0)\n",
      "Requirement already satisfied: urllib3<1.27,>=1.21.1 in c:\\users\\okazm\\anaconda3\\lib\\site-packages (from requests<3,>=2.21.0->tensorboard<2.13,>=2.12->tensorflow-intel==2.12.0->tensorflow) (1.26.7)\n",
      "Collecting oauthlib>=3.0.0\n",
      "  Downloading oauthlib-3.2.2-py3-none-any.whl (151 kB)\n",
      "Requirement already satisfied: pyparsing>=2.0.2 in c:\\users\\okazm\\anaconda3\\lib\\site-packages (from packaging->tensorflow-intel==2.12.0->tensorflow) (3.0.4)\n",
      "Building wheels for collected packages: jax\n",
      "  Building wheel for jax (PEP 517): started\n",
      "  Building wheel for jax (PEP 517): finished with status 'done'\n",
      "  Created wheel for jax: filename=jax-0.4.8-py3-none-any.whl size=1439795 sha256=99256b5c431c569fc3146d00ba52e3b30d1b939562ffae1f18b3707eeddcce50\n",
      "  Stored in directory: c:\\users\\okazm\\appdata\\local\\pip\\cache\\wheels\\05\\94\\dc\\81042da9bced43ff430bc02043d213d9e4b210b584c39e31c1\n",
      "Successfully built jax\n",
      "Installing collected packages: pyasn1, rsa, pyasn1-modules, oauthlib, cachetools, requests-oauthlib, numpy, google-auth, tensorboard-data-server, protobuf, opt-einsum, ml-dtypes, markdown, grpcio, google-auth-oauthlib, termcolor, tensorflow-io-gcs-filesystem, tensorflow-estimator, tensorboard, libclang, jax, google-pasta, gast, flatbuffers, astunparse, tensorflow-intel, tensorflow\n",
      "  Attempting uninstall: numpy\n",
      "    Found existing installation: numpy 1.19.3\n",
      "    Uninstalling numpy-1.19.3:\n",
      "      Successfully uninstalled numpy-1.19.3\n",
      "  Attempting uninstall: protobuf\n",
      "    Found existing installation: protobuf 3.19.4\n",
      "    Uninstalling protobuf-3.19.4:\n"
     ]
    },
    {
     "name": "stderr",
     "output_type": "stream",
     "text": [
      "WARNING: Ignoring invalid distribution -orch (c:\\users\\okazm\\anaconda3\\lib\\site-packages)\n",
      "WARNING: Ignoring invalid distribution -orch (c:\\users\\okazm\\anaconda3\\lib\\site-packages)\n",
      "WARNING: Ignoring invalid distribution -orch (c:\\users\\okazm\\anaconda3\\lib\\site-packages)\n",
      "    WARNING: Ignoring invalid distribution -orch (c:\\users\\okazm\\anaconda3\\lib\\site-packages)\n",
      "    WARNING: Ignoring invalid distribution -orch (c:\\users\\okazm\\anaconda3\\lib\\site-packages)\n",
      "WARNING: Ignoring invalid distribution -orch (c:\\users\\okazm\\anaconda3\\lib\\site-packages)\n",
      "WARNING: Ignoring invalid distribution -orch (c:\\users\\okazm\\anaconda3\\lib\\site-packages)\n",
      "WARNING: Ignoring invalid distribution -orch (c:\\users\\okazm\\anaconda3\\lib\\site-packages)\n",
      "WARNING: Ignoring invalid distribution -orch (c:\\users\\okazm\\anaconda3\\lib\\site-packages)\n",
      "WARNING: Ignoring invalid distribution -orch (c:\\users\\okazm\\anaconda3\\lib\\site-packages)\n",
      "WARNING: Ignoring invalid distribution -orch (c:\\users\\okazm\\anaconda3\\lib\\site-packages)\n",
      "WARNING: Ignoring invalid distribution -orch (c:\\users\\okazm\\anaconda3\\lib\\site-packages)\n",
      "WARNING: Ignoring invalid distribution -orch (c:\\users\\okazm\\anaconda3\\lib\\site-packages)\n",
      "WARNING: Ignoring invalid distribution -orch (c:\\users\\okazm\\anaconda3\\lib\\site-packages)\n",
      "WARNING: Ignoring invalid distribution -orch (c:\\users\\okazm\\anaconda3\\lib\\site-packages)\n",
      "WARNING: Ignoring invalid distribution -orch (c:\\users\\okazm\\anaconda3\\lib\\site-packages)\n",
      "WARNING: Ignoring invalid distribution -orch (c:\\users\\okazm\\anaconda3\\lib\\site-packages)\n",
      "WARNING: Ignoring invalid distribution -orch (c:\\users\\okazm\\anaconda3\\lib\\site-packages)\n",
      "WARNING: Ignoring invalid distribution -orch (c:\\users\\okazm\\anaconda3\\lib\\site-packages)\n",
      "WARNING: Ignoring invalid distribution -orch (c:\\users\\okazm\\anaconda3\\lib\\site-packages)\n",
      "WARNING: Ignoring invalid distribution -orch (c:\\users\\okazm\\anaconda3\\lib\\site-packages)\n",
      "WARNING: Ignoring invalid distribution -orch (c:\\users\\okazm\\anaconda3\\lib\\site-packages)\n",
      "WARNING: Ignoring invalid distribution -orch (c:\\users\\okazm\\anaconda3\\lib\\site-packages)\n",
      "WARNING: Ignoring invalid distribution -orch (c:\\users\\okazm\\anaconda3\\lib\\site-packages)\n",
      "WARNING: Ignoring invalid distribution -orch (c:\\users\\okazm\\anaconda3\\lib\\site-packages)\n",
      "WARNING: Ignoring invalid distribution -orch (c:\\users\\okazm\\anaconda3\\lib\\site-packages)\n",
      "WARNING: Ignoring invalid distribution -orch (c:\\users\\okazm\\anaconda3\\lib\\site-packages)\n",
      "WARNING: Ignoring invalid distribution -orch (c:\\users\\okazm\\anaconda3\\lib\\site-packages)\n",
      "WARNING: Ignoring invalid distribution -orch (c:\\users\\okazm\\anaconda3\\lib\\site-packages)\n",
      "WARNING: Ignoring invalid distribution -orch (c:\\users\\okazm\\anaconda3\\lib\\site-packages)\n",
      "WARNING: Ignoring invalid distribution -orch (c:\\users\\okazm\\anaconda3\\lib\\site-packages)\n",
      "WARNING: Ignoring invalid distribution -orch (c:\\users\\okazm\\anaconda3\\lib\\site-packages)\n",
      "ERROR: pip's dependency resolver does not currently take into account all the packages that are installed. This behaviour is the source of the following dependency conflicts.\n",
      "daal4py 2021.3.0 requires daal==2021.2.3, which is not installed.\n",
      "numba 0.54.1 requires numpy<1.21,>=1.17, but you have numpy 1.22.4 which is incompatible.\n",
      "mysql-connector-python 8.0.31 requires protobuf<=3.20.1,>=3.11.0, but you have protobuf 4.23.0 which is incompatible.\n",
      "mediapipe 0.8.3 requires numpy==1.19.3, but you have numpy 1.22.4 which is incompatible.\n",
      "WARNING: Ignoring invalid distribution -orch (c:\\users\\okazm\\anaconda3\\lib\\site-packages)\n",
      "WARNING: Ignoring invalid distribution -orch (c:\\users\\okazm\\anaconda3\\lib\\site-packages)\n",
      "WARNING: Ignoring invalid distribution -orch (c:\\users\\okazm\\anaconda3\\lib\\site-packages)\n"
     ]
    },
    {
     "name": "stdout",
     "output_type": "stream",
     "text": [
      "      Successfully uninstalled protobuf-3.19.4\n",
      "Successfully installed astunparse-1.6.3 cachetools-5.3.0 flatbuffers-23.3.3 gast-0.4.0 google-auth-2.17.3 google-auth-oauthlib-1.0.0 google-pasta-0.2.0 grpcio-1.54.0 jax-0.4.8 libclang-16.0.0 markdown-3.4.3 ml-dtypes-0.1.0 numpy-1.22.4 oauthlib-3.2.2 opt-einsum-3.3.0 protobuf-4.23.0 pyasn1-0.5.0 pyasn1-modules-0.3.0 requests-oauthlib-1.3.1 rsa-4.9 tensorboard-2.12.3 tensorboard-data-server-0.7.0 tensorflow-2.12.0 tensorflow-estimator-2.12.0 tensorflow-intel-2.12.0 tensorflow-io-gcs-filesystem-0.31.0 termcolor-2.3.0\n",
      "Collecting Word2Vec\n",
      "  Downloading word2vec-0.11.1.tar.gz (42 kB)\n",
      "  Installing build dependencies: started\n"
     ]
    },
    {
     "name": "stderr",
     "output_type": "stream",
     "text": [
      "WARNING: Ignoring invalid distribution -orch (c:\\users\\okazm\\anaconda3\\lib\\site-packages)"
     ]
    },
    {
     "name": "stdout",
     "output_type": "stream",
     "text": [
      "  Installing build dependencies: finished with status 'done'\n",
      "  Getting requirements to build wheel: started\n",
      "  Getting requirements to build wheel: finished with status 'done'\n",
      "    Preparing wheel metadata: started\n",
      "    Preparing wheel metadata: finished with status 'done'\n",
      "Requirement already satisfied: joblib in c:\\users\\okazm\\anaconda3\\lib\\site-packages (from Word2Vec) (1.1.0)\n",
      "Requirement already satisfied: numpy>=1.9.2 in c:\\users\\okazm\\anaconda3\\lib\\site-packages (from Word2Vec) (1.22.4)\n",
      "Building wheels for collected packages: Word2Vec\n",
      "  Building wheel for Word2Vec (PEP 517): started\n",
      "  Building wheel for Word2Vec (PEP 517): finished with status 'error'\n",
      "Failed to build Word2Vec\n"
     ]
    },
    {
     "name": "stderr",
     "output_type": "stream",
     "text": [
      "\n",
      "WARNING: Ignoring invalid distribution -orch (c:\\users\\okazm\\anaconda3\\lib\\site-packages)\n",
      "  ERROR: Command errored out with exit status 1:\n",
      "   command: 'C:\\Users\\okazm\\anaconda3\\python.exe' 'C:\\Users\\okazm\\anaconda3\\lib\\site-packages\\pip\\_vendor\\pep517\\in_process\\_in_process.py' build_wheel 'C:\\Users\\okazm\\AppData\\Local\\Temp\\tmpp7cguh8z'\n",
      "       cwd: C:\\Users\\okazm\\AppData\\Local\\Temp\\pip-install-u37vkydu\\word2vec_3996e605d3ec426fbe25755002ad1569\n",
      "  Complete output (130 lines):\n",
      "  running bdist_wheel\n",
      "  running build\n",
      "  running build_py\n",
      "  creating build\n",
      "  creating build\\lib\n",
      "  creating build\\lib\\word2vec\n",
      "  copying word2vec\\io.py -> build\\lib\\word2vec\n",
      "  copying word2vec\\scripts_interface.py -> build\\lib\\word2vec\n",
      "  copying word2vec\\utils.py -> build\\lib\\word2vec\n",
      "  copying word2vec\\wordclusters.py -> build\\lib\\word2vec\n",
      "  copying word2vec\\wordvectors.py -> build\\lib\\word2vec\n",
      "  copying word2vec\\_generated_version.py -> build\\lib\\word2vec\n",
      "  copying word2vec\\__init__.py -> build\\lib\\word2vec\n",
      "  creating build\\lib\\word2vec\\tests\n",
      "  copying word2vec\\tests\\test_core.py -> build\\lib\\word2vec\\tests\n",
      "  copying word2vec\\tests\\test_import.py -> build\\lib\\word2vec\\tests\n",
      "  copying word2vec\\tests\\test_scripts_present.py -> build\\lib\\word2vec\\tests\n",
      "  copying word2vec\\tests\\__init__.py -> build\\lib\\word2vec\\tests\n",
      "  running egg_info\n",
      "  writing word2vec.egg-info\\PKG-INFO\n",
      "  writing dependency_links to word2vec.egg-info\\dependency_links.txt\n",
      "  writing requirements to word2vec.egg-info\\requires.txt\n",
      "  writing top-level names to word2vec.egg-info\\top_level.txt\n",
      "  listing git files failed - pretending there aren't any\n",
      "  reading manifest file 'word2vec.egg-info\\SOURCES.txt'\n",
      "  adding license file 'LICENSE.txt'\n",
      "  writing manifest file 'word2vec.egg-info\\SOURCES.txt'\n",
      "  C:\\Users\\okazm\\AppData\\Local\\Temp\\pip-build-env-lxt8x856\\overlay\\Lib\\site-packages\\setuptools\\command\\build_py.py:201: _Warning: Package 'word2vec.includes' is absent from the `packages` configuration.\n",
      "  !!\n",
      "  \n",
      "          ********************************************************************************\n",
      "          ############################\n",
      "          # Package would be ignored #\n",
      "          ############################\n",
      "          Python recognizes 'word2vec.includes' as an importable package[^1],\n",
      "          but it is absent from setuptools' `packages` configuration.\n",
      "  \n",
      "          This leads to an ambiguous overall configuration. If you want to distribute this\n",
      "          package, please make sure that 'word2vec.includes' is explicitly added\n",
      "          to the `packages` configuration field.\n",
      "  \n",
      "          Alternatively, you can also rely on setuptools' discovery methods\n",
      "          (for example by using `find_namespace_packages(...)`/`find_namespace:`\n",
      "          instead of `find_packages(...)`/`find:`).\n",
      "  \n",
      "          You can read more about \"package discovery\" on setuptools documentation page:\n",
      "  \n",
      "          - https://setuptools.pypa.io/en/latest/userguide/package_discovery.html\n",
      "  \n",
      "          If you don't want 'word2vec.includes' to be distributed and are\n",
      "          already explicitly excluding 'word2vec.includes' via\n",
      "          `find_namespace_packages(...)/find_namespace` or `find_packages(...)/find`,\n",
      "          you can try to use `exclude_package_data`, or `include-package-data=False` in\n",
      "          combination with a more fine grained `package-data` configuration.\n",
      "  \n",
      "          You can read more about \"package data files\" on setuptools documentation page:\n",
      "  \n",
      "          - https://setuptools.pypa.io/en/latest/userguide/datafiles.html\n",
      "  \n",
      "  \n",
      "          [^1]: For Python, any directory (with suitable naming) can be imported,\n",
      "                even if it does not contain any `.py` files.\n",
      "                On the other hand, currently there is no concept of package data\n",
      "                directory, all directories are treated like packages.\n",
      "          ********************************************************************************\n",
      "  \n",
      "  !!\n",
      "    check.warn(importable)\n",
      "  C:\\Users\\okazm\\AppData\\Local\\Temp\\pip-build-env-lxt8x856\\overlay\\Lib\\site-packages\\setuptools\\command\\build_py.py:201: _Warning: Package 'word2vec.includes.win32' is absent from the `packages` configuration.\n",
      "  !!\n",
      "  \n",
      "          ********************************************************************************\n",
      "          ############################\n",
      "          # Package would be ignored #\n",
      "          ############################\n",
      "          Python recognizes 'word2vec.includes.win32' as an importable package[^1],\n",
      "          but it is absent from setuptools' `packages` configuration.\n",
      "  \n",
      "          This leads to an ambiguous overall configuration. If you want to distribute this\n",
      "          package, please make sure that 'word2vec.includes.win32' is explicitly added\n",
      "          to the `packages` configuration field.\n",
      "  \n",
      "          Alternatively, you can also rely on setuptools' discovery methods\n",
      "          (for example by using `find_namespace_packages(...)`/`find_namespace:`\n",
      "          instead of `find_packages(...)`/`find:`).\n",
      "  \n",
      "          You can read more about \"package discovery\" on setuptools documentation page:\n",
      "  \n",
      "          - https://setuptools.pypa.io/en/latest/userguide/package_discovery.html\n",
      "  \n",
      "          If you don't want 'word2vec.includes.win32' to be distributed and are\n",
      "          already explicitly excluding 'word2vec.includes.win32' via\n",
      "          `find_namespace_packages(...)/find_namespace` or `find_packages(...)/find`,\n",
      "          you can try to use `exclude_package_data`, or `include-package-data=False` in\n",
      "          combination with a more fine grained `package-data` configuration.\n",
      "  \n",
      "          You can read more about \"package data files\" on setuptools documentation page:\n",
      "  \n",
      "          - https://setuptools.pypa.io/en/latest/userguide/datafiles.html\n",
      "  \n",
      "  \n",
      "          [^1]: For Python, any directory (with suitable naming) can be imported,\n",
      "                even if it does not contain any `.py` files.\n",
      "                On the other hand, currently there is no concept of package data\n",
      "                directory, all directories are treated like packages.\n",
      "          ********************************************************************************\n",
      "  \n",
      "  !!\n",
      "    check.warn(importable)\n",
      "  creating build\\lib\\word2vec\\includes\n",
      "  copying word2vec\\includes\\Makefile -> build\\lib\\word2vec\\includes\n",
      "  copying word2vec\\includes\\compute-accuracy.c -> build\\lib\\word2vec\\includes\n",
      "  copying word2vec\\includes\\distance.c -> build\\lib\\word2vec\\includes\n",
      "  copying word2vec\\includes\\word-analogy.c -> build\\lib\\word2vec\\includes\n",
      "  copying word2vec\\includes\\word2phrase.c -> build\\lib\\word2vec\\includes\n",
      "  copying word2vec\\includes\\word2vec-sentence2vec.c -> build\\lib\\word2vec\\includes\n",
      "  copying word2vec\\includes\\word2vec.c -> build\\lib\\word2vec\\includes\n",
      "  creating build\\lib\\word2vec\\includes\\win32\n",
      "  copying word2vec\\includes\\win32\\Makefile -> build\\lib\\word2vec\\includes\\win32\n",
      "  copying word2vec\\includes\\win32\\compute-accuracy.c -> build\\lib\\word2vec\\includes\\win32\n",
      "  copying word2vec\\includes\\win32\\distance.c -> build\\lib\\word2vec\\includes\\win32\n",
      "  copying word2vec\\includes\\win32\\win32-port.h -> build\\lib\\word2vec\\includes\\win32\n",
      "  copying word2vec\\includes\\win32\\word-analogy.c -> build\\lib\\word2vec\\includes\\win32\n",
      "  copying word2vec\\includes\\win32\\word2phrase.c -> build\\lib\\word2vec\\includes\\win32\n",
      "  copying word2vec\\includes\\win32\\word2vec.c -> build\\lib\\word2vec\\includes\\win32\n",
      "  installing to build\\bdist.win-amd64\\wheel\n",
      "  running install\n",
      "  Running custom Install command\n",
      "  Compiling: gcc C:\\Users\\okazm\\AppData\\Local\\Temp\\pip-install-u37vkydu\\word2vec_3996e605d3ec426fbe25755002ad1569\\word2vec\\includes\\win32/word2vec.c -o Scripts\\word2vec.exe -O2 -Wall -funroll-loops\n",
      "  error: [WinError 2] Не удается найти указанный файл\n",
      "  ----------------------------------------\n",
      "  ERROR: Failed building wheel for Word2Vec\n",
      "ERROR: Could not build wheels for Word2Vec which use PEP 517 and cannot be installed directly\n",
      "WARNING: Ignoring invalid distribution -orch (c:\\users\\okazm\\anaconda3\\lib\\site-packages)\n",
      "WARNING: Ignoring invalid distribution -orch (c:\\users\\okazm\\anaconda3\\lib\\site-packages)\n",
      "WARNING: Ignoring invalid distribution -orch (c:\\users\\okazm\\anaconda3\\lib\\site-packages)\n"
     ]
    },
    {
     "name": "stdout",
     "output_type": "stream",
     "text": [
      "Requirement already satisfied: pandas in c:\\users\\okazm\\anaconda3\\lib\\site-packages (1.3.4)\n",
      "Collecting pandas\n",
      "  Downloading pandas-2.0.1-cp39-cp39-win_amd64.whl (10.7 MB)\n",
      "Collecting tzdata>=2022.1\n",
      "  Downloading tzdata-2023.3-py2.py3-none-any.whl (341 kB)\n",
      "Requirement already satisfied: numpy>=1.20.3 in c:\\users\\okazm\\anaconda3\\lib\\site-packages (from pandas) (1.22.4)\n",
      "Requirement already satisfied: python-dateutil>=2.8.2 in c:\\users\\okazm\\anaconda3\\lib\\site-packages (from pandas) (2.8.2)\n",
      "Requirement already satisfied: pytz>=2020.1 in c:\\users\\okazm\\anaconda3\\lib\\site-packages (from pandas) (2021.3)\n",
      "Requirement already satisfied: six>=1.5 in c:\\users\\okazm\\anaconda3\\lib\\site-packages (from python-dateutil>=2.8.2->pandas) (1.16.0)\n",
      "Installing collected packages: tzdata, pandas\n",
      "  Attempting uninstall: pandas\n",
      "    Found existing installation: pandas 1.3.4\n",
      "    Uninstalling pandas-1.3.4:\n",
      "      Successfully uninstalled pandas-1.3.4\n",
      "Successfully installed pandas-2.0.1 tzdata-2023.3\n"
     ]
    },
    {
     "name": "stderr",
     "output_type": "stream",
     "text": [
      "WARNING: Ignoring invalid distribution -orch (c:\\users\\okazm\\anaconda3\\lib\\site-packages)\n",
      "WARNING: Ignoring invalid distribution -orch (c:\\users\\okazm\\anaconda3\\lib\\site-packages)\n",
      "WARNING: Ignoring invalid distribution -orch (c:\\users\\okazm\\anaconda3\\lib\\site-packages)\n",
      "    WARNING: Ignoring invalid distribution -orch (c:\\users\\okazm\\anaconda3\\lib\\site-packages)\n",
      "WARNING: Ignoring invalid distribution -orch (c:\\users\\okazm\\anaconda3\\lib\\site-packages)\n",
      "WARNING: Ignoring invalid distribution -orch (c:\\users\\okazm\\anaconda3\\lib\\site-packages)\n",
      "WARNING: Ignoring invalid distribution -orch (c:\\users\\okazm\\anaconda3\\lib\\site-packages)\n",
      "WARNING: Ignoring invalid distribution -orch (c:\\users\\okazm\\anaconda3\\lib\\site-packages)\n",
      "WARNING: Ignoring invalid distribution -orch (c:\\users\\okazm\\anaconda3\\lib\\site-packages)\n"
     ]
    }
   ],
   "source": [
    "!pip install gensim \n",
    "!pip install keras --upgrade\n",
    "!pip install keras.preprocessing \n",
    "!pip install keras.models\n",
    "!pip install tensorflow\n",
    "!pip install Word2Vec\n",
    "!pip install pandas --upgrade"
   ]
  },
  {
   "cell_type": "code",
   "execution_count": 55,
   "metadata": {
    "_uuid": "303e72966af732ddef0bd8108a321095314e44af"
   },
   "outputs": [],
   "source": [
    "# DataFrame\n",
    "import pandas as pd\n",
    "\n",
    "# Matplot\n",
    "import matplotlib.pyplot as plt\n",
    "%matplotlib inline\n",
    "\n",
    "# Scikit-learn\n",
    "from sklearn.model_selection import train_test_split\n",
    "from sklearn.preprocessing import LabelEncoder\n",
    "from sklearn.metrics import confusion_matrix, classification_report, accuracy_score\n",
    "from sklearn.manifold import TSNE\n",
    "from sklearn.feature_extraction.text import TfidfVectorizer\n",
    "\n",
    "# Keras\n",
    "from keras.preprocessing.text import Tokenizer\n",
    "#from keras.preprocessing.sequence import pad_sequences\n",
    "from keras.models import Sequential\n",
    "from keras.layers import Activation, Dense, Dropout, Embedding, Flatten, Conv1D, MaxPooling1D, LSTM\n",
    "from keras import utils\n",
    "from keras.callbacks import ReduceLROnPlateau, EarlyStopping\n",
    "\n",
    "# nltk\n",
    "import nltk\n",
    "from nltk.corpus import stopwords\n",
    "from nltk.stem import SnowballStemmer\n",
    "\n",
    "# Word2vec\n",
    "import gensim\n",
    "\n",
    "# Utility\n",
    "import re\n",
    "import numpy as np\n",
    "import os\n",
    "from collections import Counter\n",
    "import logging\n",
    "import time\n",
    "import pickle\n",
    "import itertools\n",
    "\n",
    "# Set log\n",
    "logging.basicConfig(format='%(asctime)s : %(levelname)s : %(message)s', level=logging.INFO)"
   ]
  },
  {
   "cell_type": "code",
   "execution_count": 56,
   "metadata": {
    "_uuid": "35e1a89dead5fd160e4c9a024a21d2e569fc89ff"
   },
   "outputs": [
    {
     "name": "stderr",
     "output_type": "stream",
     "text": [
      "[nltk_data] Downloading package stopwords to\n",
      "[nltk_data]     C:\\Users\\okazm\\AppData\\Roaming\\nltk_data...\n",
      "[nltk_data]   Package stopwords is already up-to-date!\n"
     ]
    },
    {
     "data": {
      "text/plain": [
       "True"
      ]
     },
     "execution_count": 56,
     "metadata": {},
     "output_type": "execute_result"
    }
   ],
   "source": [
    "import nltk\n",
    "nltk.download('stopwords')"
   ]
  },
  {
   "cell_type": "markdown",
   "metadata": {
    "_uuid": "e8b01a07df001e4abcc745900336c4db06e455f3"
   },
   "source": [
    "### Settings"
   ]
  },
  {
   "cell_type": "code",
   "execution_count": 57,
   "metadata": {
    "_uuid": "180f0dd2a95419e4602b5c0229822b0111c826f6"
   },
   "outputs": [],
   "source": [
    "# DATASET\n",
    "DATASET_COLUMNS = [\"target\", \"ids\", \"date\", \"flag\", \"user\", \"text\"]\n",
    "DATASET_ENCODING = \"ISO-8859-1\"\n",
    "TRAIN_SIZE = 0.8\n",
    "\n",
    "# TEXT CLENAING\n",
    "TEXT_CLEANING_RE = \"@\\S+|https?:\\S+|http?:\\S|[^A-Za-z0-9]+\"\n",
    "\n",
    "# WORD2VEC \n",
    "W2V_SIZE = 300\n",
    "W2V_WINDOW = 7\n",
    "W2V_EPOCH = 32\n",
    "W2V_MIN_COUNT = 10\n",
    "\n",
    "# KERAS\n",
    "SEQUENCE_LENGTH = 300\n",
    "EPOCHS = 8\n",
    "BATCH_SIZE = 1024\n",
    "\n",
    "# SENTIMENT\n",
    "POSITIVE = \"POSITIVE\"\n",
    "NEGATIVE = \"NEGATIVE\"\n",
    "NEUTRAL = \"NEUTRAL\"\n",
    "SENTIMENT_THRESHOLDS = (0.4, 0.7)\n",
    "\n",
    "# EXPORT\n",
    "KERAS_MODEL = \"model.h5\"\n",
    "WORD2VEC_MODEL = \"model.w2v\"\n",
    "TOKENIZER_MODEL = \"tokenizer.pkl\"\n",
    "ENCODER_MODEL = \"encoder.pkl\""
   ]
  },
  {
   "cell_type": "markdown",
   "metadata": {
    "_uuid": "1c3beecc618be68480b3d4f0de08d9d863da1dc1"
   },
   "source": [
    "### Read Dataset"
   ]
  },
  {
   "cell_type": "markdown",
   "metadata": {
    "_uuid": "563b3c44f1092dba0b853747b098e00509098cca"
   },
   "source": [
    "### Dataset details\n",
    "* **target**: the polarity of the tweet (0 = negative, 2 = neutral, 4 = positive)\n",
    "* **ids**: The id of the tweet ( 2087)\n",
    "* **date**: the date of the tweet (Sat May 16 23:58:44 UTC 2009)\n",
    "* **flag**: The query (lyx). If there is no query, then this value is NO_QUERY.\n",
    "* **user**: the user that tweeted (robotickilldozr)\n",
    "* **text**: the text of the tweet (Lyx is cool)"
   ]
  },
  {
   "cell_type": "code",
   "execution_count": 61,
   "metadata": {
    "_uuid": "bba8f91cd70de4f5ea0fb0870ae2029b6e3dcc24"
   },
   "outputs": [
    {
     "data": {
      "text/html": [
       "<div>\n",
       "<style scoped>\n",
       "    .dataframe tbody tr th:only-of-type {\n",
       "        vertical-align: middle;\n",
       "    }\n",
       "\n",
       "    .dataframe tbody tr th {\n",
       "        vertical-align: top;\n",
       "    }\n",
       "\n",
       "    .dataframe thead th {\n",
       "        text-align: right;\n",
       "    }\n",
       "</style>\n",
       "<table border=\"1\" class=\"dataframe\">\n",
       "  <thead>\n",
       "    <tr style=\"text-align: right;\">\n",
       "      <th></th>\n",
       "      <th>count</th>\n",
       "    </tr>\n",
       "    <tr>\n",
       "      <th>target</th>\n",
       "      <th></th>\n",
       "    </tr>\n",
       "  </thead>\n",
       "  <tbody>\n",
       "    <tr>\n",
       "      <th>4</th>\n",
       "      <td>200063</td>\n",
       "    </tr>\n",
       "    <tr>\n",
       "      <th>0</th>\n",
       "      <td>199937</td>\n",
       "    </tr>\n",
       "  </tbody>\n",
       "</table>\n",
       "</div>"
      ],
      "text/plain": [
       "         count\n",
       "target        \n",
       "4       200063\n",
       "0       199937"
      ]
     },
     "execution_count": 61,
     "metadata": {},
     "output_type": "execute_result"
    }
   ],
   "source": [
    "import pandas as pd\n",
    "import numpy as np\n",
    "#dataset_filename = os.listdir(\"../input\")[0]\n",
    "dataset_path = 'tweets.csv'\n",
    "#print(\"Open file:\", dataset_path)\n",
    "df = pd.read_csv(dataset_path, encoding =DATASET_ENCODING , names=DATASET_COLUMNS)\n",
    "from sklearn.utils import shuffle\n",
    "df = shuffle(df)\n",
    "df = df.iloc[:400000]\n",
    "len(df)\n",
    "pd.DataFrame(df.target.value_counts())"
   ]
  },
  {
   "cell_type": "code",
   "execution_count": 62,
   "metadata": {
    "_uuid": "936d499c00c4f1648bc16ca9d283c3b39be7fb10"
   },
   "outputs": [
    {
     "name": "stdout",
     "output_type": "stream",
     "text": [
      "Dataset size: 400000\n"
     ]
    }
   ],
   "source": [
    "print(\"Dataset size:\", len(df))"
   ]
  },
  {
   "cell_type": "code",
   "execution_count": 63,
   "metadata": {
    "_uuid": "7486ed895b813c5246f97b31b6162b0f65ff763b"
   },
   "outputs": [
    {
     "data": {
      "text/html": [
       "<div>\n",
       "<style scoped>\n",
       "    .dataframe tbody tr th:only-of-type {\n",
       "        vertical-align: middle;\n",
       "    }\n",
       "\n",
       "    .dataframe tbody tr th {\n",
       "        vertical-align: top;\n",
       "    }\n",
       "\n",
       "    .dataframe thead th {\n",
       "        text-align: right;\n",
       "    }\n",
       "</style>\n",
       "<table border=\"1\" class=\"dataframe\">\n",
       "  <thead>\n",
       "    <tr style=\"text-align: right;\">\n",
       "      <th></th>\n",
       "      <th>target</th>\n",
       "      <th>ids</th>\n",
       "      <th>date</th>\n",
       "      <th>flag</th>\n",
       "      <th>user</th>\n",
       "      <th>text</th>\n",
       "    </tr>\n",
       "  </thead>\n",
       "  <tbody>\n",
       "    <tr>\n",
       "      <th>175912</th>\n",
       "      <td>0</td>\n",
       "      <td>1965069250</td>\n",
       "      <td>Fri May 29 15:16:44 PDT 2009</td>\n",
       "      <td>NO_QUERY</td>\n",
       "      <td>Soph4Soph</td>\n",
       "      <td>@Juicytots yay!! we'll all move!! sorry dh is ...</td>\n",
       "    </tr>\n",
       "    <tr>\n",
       "      <th>1288801</th>\n",
       "      <td>4</td>\n",
       "      <td>2002525145</td>\n",
       "      <td>Tue Jun 02 04:27:57 PDT 2009</td>\n",
       "      <td>NO_QUERY</td>\n",
       "      <td>80smusicthebest</td>\n",
       "      <td>http://bit.ly/133OI6  nkotb chatroom, some cha...</td>\n",
       "    </tr>\n",
       "    <tr>\n",
       "      <th>1491270</th>\n",
       "      <td>4</td>\n",
       "      <td>2069065843</td>\n",
       "      <td>Sun Jun 07 15:11:58 PDT 2009</td>\n",
       "      <td>NO_QUERY</td>\n",
       "      <td>JennyBell91</td>\n",
       "      <td>@Omgitstheb awww darling your like a woman heh...</td>\n",
       "    </tr>\n",
       "    <tr>\n",
       "      <th>763704</th>\n",
       "      <td>0</td>\n",
       "      <td>2298515598</td>\n",
       "      <td>Tue Jun 23 11:46:29 PDT 2009</td>\n",
       "      <td>NO_QUERY</td>\n",
       "      <td>mikef1182</td>\n",
       "      <td>@heatX Let me know how it is, I sadly no longe...</td>\n",
       "    </tr>\n",
       "    <tr>\n",
       "      <th>1357291</th>\n",
       "      <td>4</td>\n",
       "      <td>2047965993</td>\n",
       "      <td>Fri Jun 05 14:27:15 PDT 2009</td>\n",
       "      <td>NO_QUERY</td>\n",
       "      <td>GirlTornado</td>\n",
       "      <td>@southplatte Let's see, you own a horse, and a...</td>\n",
       "    </tr>\n",
       "  </tbody>\n",
       "</table>\n",
       "</div>"
      ],
      "text/plain": [
       "         target         ids                          date      flag   \n",
       "175912        0  1965069250  Fri May 29 15:16:44 PDT 2009  NO_QUERY  \\\n",
       "1288801       4  2002525145  Tue Jun 02 04:27:57 PDT 2009  NO_QUERY   \n",
       "1491270       4  2069065843  Sun Jun 07 15:11:58 PDT 2009  NO_QUERY   \n",
       "763704        0  2298515598  Tue Jun 23 11:46:29 PDT 2009  NO_QUERY   \n",
       "1357291       4  2047965993  Fri Jun 05 14:27:15 PDT 2009  NO_QUERY   \n",
       "\n",
       "                    user                                               text  \n",
       "175912         Soph4Soph  @Juicytots yay!! we'll all move!! sorry dh is ...  \n",
       "1288801  80smusicthebest  http://bit.ly/133OI6  nkotb chatroom, some cha...  \n",
       "1491270      JennyBell91  @Omgitstheb awww darling your like a woman heh...  \n",
       "763704         mikef1182  @heatX Let me know how it is, I sadly no longe...  \n",
       "1357291      GirlTornado  @southplatte Let's see, you own a horse, and a...  "
      ]
     },
     "execution_count": 63,
     "metadata": {},
     "output_type": "execute_result"
    }
   ],
   "source": [
    "df.head(5)"
   ]
  },
  {
   "cell_type": "markdown",
   "metadata": {
    "_uuid": "3f9a7bb129e184967b13261fb5d253af451c75c5"
   },
   "source": [
    "### Map target label to String\n",
    "* **0** -> **NEGATIVE**\n",
    "* **2** -> **NEUTRAL**\n",
    "* **4** -> **POSITIVE**"
   ]
  },
  {
   "cell_type": "code",
   "execution_count": 64,
   "metadata": {
    "_uuid": "14074b59106cb9550440839e48b832223fc9502f"
   },
   "outputs": [],
   "source": [
    "decode_map = {0: \"NEGATIVE\", 2: \"NEUTRAL\", 4: \"POSITIVE\"}\n",
    "def decode_sentiment(label):\n",
    "    return decode_map[int(label)]"
   ]
  },
  {
   "cell_type": "code",
   "execution_count": 65,
   "metadata": {
    "_uuid": "4449d473187f647a195a6ac6986b009da32a7f4b"
   },
   "outputs": [
    {
     "name": "stdout",
     "output_type": "stream",
     "text": [
      "Wall time: 127 ms\n"
     ]
    }
   ],
   "source": [
    "%%time\n",
    "df.target = df.target.apply(lambda x: decode_sentiment(x))"
   ]
  },
  {
   "cell_type": "code",
   "execution_count": 66,
   "metadata": {
    "_uuid": "19eb327803192f31cce3512aacb232f4d6b38715"
   },
   "outputs": [
    {
     "data": {
      "text/plain": [
       "Text(0.5, 1.0, 'Dataset labels distribuition')"
      ]
     },
     "execution_count": 66,
     "metadata": {},
     "output_type": "execute_result"
    },
    {
     "data": {
      "image/png": "[encoded data removed]",
      "text/plain": [
       "<Figure size 1152x576 with 1 Axes>"
      ]
     },
     "metadata": {
      "needs_background": "light"
     },
     "output_type": "display_data"
    }
   ],
   "source": [
    "from collections import Counter\n",
    "import matplotlib.pyplot as plt\n",
    "%matplotlib inline\n",
    "\n",
    "target_cnt = Counter(df.target)\n",
    "\n",
    "plt.figure(figsize=(16,8))\n",
    "plt.bar(target_cnt.keys(), target_cnt.values())\n",
    "plt.title(\"Dataset labels distribuition\")"
   ]
  },
  {
   "cell_type": "markdown",
   "metadata": {
    "_uuid": "4329b1573518b03e497213efa7676220734ebb4b"
   },
   "source": [
    "### Pre-Process dataset"
   ]
  },
  {
   "cell_type": "code",
   "execution_count": 67,
   "metadata": {
    "_uuid": "8aeee8b7b9ea11b749c7f91cd4787a7b50ed1a91"
   },
   "outputs": [],
   "source": [
    "from nltk.corpus import stopwords\n",
    "from nltk.stem import SnowballStemmer\n",
    "import re\n",
    "\n",
    "stop_words = stopwords.words(\"english\")\n",
    "stemmer = SnowballStemmer(\"english\")"
   ]
  },
  {
   "cell_type": "code",
   "execution_count": 68,
   "metadata": {
    "_uuid": "649ebcb97969b9ac4301138783704bb3d7846a49"
   },
   "outputs": [],
   "source": [
    "def preprocess(text, stem=False):\n",
    "    # Remove link,user and special characters\n",
    "    text = re.sub(TEXT_CLEANING_RE, ' ', str(text).lower()).strip()\n",
    "    tokens = []\n",
    "    for token in text.split():\n",
    "        if token not in stop_words:\n",
    "            if stem:\n",
    "                tokens.append(stemmer.stem(token))\n",
    "            else:\n",
    "                tokens.append(token)\n",
    "    return \" \".join(tokens)"
   ]
  },
  {
   "cell_type": "code",
   "execution_count": 69,
   "metadata": {
    "_uuid": "f7f3e77ab9291d14687c49e71ba9b2b1e3323432"
   },
   "outputs": [
    {
     "name": "stdout",
     "output_type": "stream",
     "text": [
      "Wall time: 12.3 s\n"
     ]
    }
   ],
   "source": [
    "%%time\n",
    "df.text = df.text.apply(lambda x: preprocess(x))"
   ]
  },
  {
   "cell_type": "markdown",
   "metadata": {
    "_uuid": "f5f9714a8507409bbe780eebf2855a33e8e6ba37"
   },
   "source": [
    "### Split train and test"
   ]
  },
  {
   "cell_type": "code",
   "execution_count": 70,
   "metadata": {
    "_uuid": "d2b1179c968e3f3910c790ecf0c5b2cbb34b0e68"
   },
   "outputs": [
    {
     "name": "stdout",
     "output_type": "stream",
     "text": [
      "TRAIN size: 320000\n",
      "TEST size: 80000\n"
     ]
    }
   ],
   "source": [
    "from sklearn.model_selection import train_test_split\n",
    "df_train, df_test = train_test_split(df, test_size=1-TRAIN_SIZE, random_state=42)\n",
    "print(\"TRAIN size:\", len(df_train))\n",
    "print(\"TEST size:\", len(df_test))"
   ]
  },
  {
   "cell_type": "markdown",
   "metadata": {
    "_uuid": "f08a28aab2c3d16d8b9681a7d5d07587153a1cd6"
   },
   "source": [
    "### Word2Vec "
   ]
  },
  {
   "cell_type": "code",
   "execution_count": 71,
   "metadata": {
    "_uuid": "2461bf564de1b4414841933d0c1d1bee5f5cc5a6"
   },
   "outputs": [
    {
     "name": "stdout",
     "output_type": "stream",
     "text": [
      "Wall time: 12.6 s\n"
     ]
    }
   ],
   "source": [
    "%%time\n",
    "documents = [_text.split() for _text in df_train.text] "
   ]
  },
  {
   "cell_type": "code",
   "execution_count": 72,
   "metadata": {
    "_uuid": "8e19b9f25801ba86420decc266d2b3e6fb44f1ea"
   },
   "outputs": [
    {
     "name": "stderr",
     "output_type": "stream",
     "text": [
      "2023-05-11 03:04:10,825 : INFO : Word2Vec lifecycle event {'params': 'Word2Vec<vocab=0, vector_size=100, alpha=0.025>', 'datetime': '2023-05-11T03:04:10.825739', 'gensim': '4.3.1', 'python': '3.9.7 (default, Sep 16 2021, 16:59:28) [MSC v.1916 64 bit (AMD64)]', 'platform': 'Windows-10-10.0.22000-SP0', 'event': 'created'}\n"
     ]
    }
   ],
   "source": [
    "import gensim\n",
    "w2v_model = gensim.models.word2vec.Word2Vec(\n",
    "                                            window=W2V_WINDOW, \n",
    "                                            min_count=W2V_MIN_COUNT, \n",
    "                                            workers=8)\n",
    "#size=W2V_SIZE,"
   ]
  },
  {
   "cell_type": "code",
   "execution_count": 73,
   "metadata": {
    "_uuid": "58d655af07653c594bec6bebcfb302a973b0ad9c"
   },
   "outputs": [
    {
     "name": "stderr",
     "output_type": "stream",
     "text": [
      "2023-05-11 03:04:18,896 : INFO : collecting all words and their counts\n",
      "2023-05-11 03:04:18,897 : INFO : PROGRESS: at sentence #0, processed 0 words, keeping 0 word types\n",
      "2023-05-11 03:04:18,918 : INFO : PROGRESS: at sentence #10000, processed 72032 words, keeping 13791 word types\n",
      "2023-05-11 03:04:18,944 : INFO : PROGRESS: at sentence #20000, processed 143911 words, keeping 21328 word types\n",
      "2023-05-11 03:04:18,974 : INFO : PROGRESS: at sentence #30000, processed 215539 words, keeping 27583 word types\n",
      "2023-05-11 03:04:18,994 : INFO : PROGRESS: at sentence #40000, processed 287220 words, keeping 32912 word types\n",
      "2023-05-11 03:04:19,017 : INFO : PROGRESS: at sentence #50000, processed 359266 words, keeping 37730 word types\n",
      "2023-05-11 03:04:19,035 : INFO : PROGRESS: at sentence #60000, processed 432144 words, keeping 42166 word types\n",
      "2023-05-11 03:04:19,062 : INFO : PROGRESS: at sentence #70000, processed 505131 words, keeping 46341 word types\n",
      "2023-05-11 03:04:19,095 : INFO : PROGRESS: at sentence #80000, processed 576928 words, keeping 50246 word types\n",
      "2023-05-11 03:04:19,126 : INFO : PROGRESS: at sentence #90000, processed 648996 words, keeping 54062 word types\n",
      "2023-05-11 03:04:19,157 : INFO : PROGRESS: at sentence #100000, processed 721676 words, keeping 57874 word types\n",
      "2023-05-11 03:04:19,175 : INFO : PROGRESS: at sentence #110000, processed 793556 words, keeping 61342 word types\n",
      "2023-05-11 03:04:19,195 : INFO : PROGRESS: at sentence #120000, processed 865966 words, keeping 64779 word types\n",
      "2023-05-11 03:04:19,228 : INFO : PROGRESS: at sentence #130000, processed 937901 words, keeping 68033 word types\n",
      "2023-05-11 03:04:19,245 : INFO : PROGRESS: at sentence #140000, processed 1010092 words, keeping 71180 word types\n",
      "2023-05-11 03:04:19,272 : INFO : PROGRESS: at sentence #150000, processed 1082660 words, keeping 74325 word types\n",
      "2023-05-11 03:04:19,289 : INFO : PROGRESS: at sentence #160000, processed 1153809 words, keeping 77283 word types\n",
      "2023-05-11 03:04:19,309 : INFO : PROGRESS: at sentence #170000, processed 1225751 words, keeping 80264 word types\n",
      "2023-05-11 03:04:19,334 : INFO : PROGRESS: at sentence #180000, processed 1298136 words, keeping 83250 word types\n",
      "2023-05-11 03:04:19,368 : INFO : PROGRESS: at sentence #190000, processed 1370083 words, keeping 86190 word types\n",
      "2023-05-11 03:04:19,388 : INFO : PROGRESS: at sentence #200000, processed 1442271 words, keeping 89004 word types\n",
      "2023-05-11 03:04:19,408 : INFO : PROGRESS: at sentence #210000, processed 1514566 words, keeping 91798 word types\n",
      "2023-05-11 03:04:19,442 : INFO : PROGRESS: at sentence #220000, processed 1586737 words, keeping 94578 word types\n",
      "2023-05-11 03:04:19,462 : INFO : PROGRESS: at sentence #230000, processed 1658148 words, keeping 97255 word types\n",
      "2023-05-11 03:04:19,495 : INFO : PROGRESS: at sentence #240000, processed 1730555 words, keeping 99889 word types\n",
      "2023-05-11 03:04:19,513 : INFO : PROGRESS: at sentence #250000, processed 1802531 words, keeping 102534 word types\n",
      "2023-05-11 03:04:19,540 : INFO : PROGRESS: at sentence #260000, processed 1874613 words, keeping 105201 word types\n",
      "2023-05-11 03:04:19,558 : INFO : PROGRESS: at sentence #270000, processed 1946466 words, keeping 107652 word types\n",
      "2023-05-11 03:04:19,581 : INFO : PROGRESS: at sentence #280000, processed 2018374 words, keeping 110170 word types\n",
      "2023-05-11 03:04:19,601 : INFO : PROGRESS: at sentence #290000, processed 2091029 words, keeping 112636 word types\n",
      "2023-05-11 03:04:19,619 : INFO : PROGRESS: at sentence #300000, processed 2163659 words, keeping 115102 word types\n",
      "2023-05-11 03:04:19,652 : INFO : PROGRESS: at sentence #310000, processed 2236260 words, keeping 117563 word types\n",
      "2023-05-11 03:04:19,685 : INFO : collected 120030 word types from a corpus of 2308778 raw words and 320000 sentences\n",
      "2023-05-11 03:04:19,686 : INFO : Creating a fresh vocabulary\n",
      "2023-05-11 03:04:19,784 : INFO : Word2Vec lifecycle event {'msg': 'effective_min_count=10 retains 13400 unique words (11.16% of original 120030, drops 106630)', 'datetime': '2023-05-11T03:04:19.784161', 'gensim': '4.3.1', 'python': '3.9.7 (default, Sep 16 2021, 16:59:28) [MSC v.1916 64 bit (AMD64)]', 'platform': 'Windows-10-10.0.22000-SP0', 'event': 'prepare_vocab'}\n",
      "2023-05-11 03:04:19,784 : INFO : Word2Vec lifecycle event {'msg': 'effective_min_count=10 leaves 2121716 word corpus (91.90% of original 2308778, drops 187062)', 'datetime': '2023-05-11T03:04:19.784161', 'gensim': '4.3.1', 'python': '3.9.7 (default, Sep 16 2021, 16:59:28) [MSC v.1916 64 bit (AMD64)]', 'platform': 'Windows-10-10.0.22000-SP0', 'event': 'prepare_vocab'}\n",
      "2023-05-11 03:04:19,874 : INFO : deleting the raw counts dictionary of 120030 items\n",
      "2023-05-11 03:04:19,874 : INFO : sample=0.001 downsamples 47 most-common words\n",
      "2023-05-11 03:04:19,889 : INFO : Word2Vec lifecycle event {'msg': 'downsampling leaves estimated 1975085.2535535996 word corpus (93.1%% of prior 2121716)', 'datetime': '2023-05-11T03:04:19.889776', 'gensim': '4.3.1', 'python': '3.9.7 (default, Sep 16 2021, 16:59:28) [MSC v.1916 64 bit (AMD64)]', 'platform': 'Windows-10-10.0.22000-SP0', 'event': 'prepare_vocab'}\n",
      "2023-05-11 03:04:20,026 : INFO : estimated required memory for 13400 words and 100 dimensions: 17420000 bytes\n",
      "2023-05-11 03:04:20,026 : INFO : resetting layer weights\n",
      "2023-05-11 03:04:20,039 : INFO : Word2Vec lifecycle event {'update': False, 'trim_rule': 'None', 'datetime': '2023-05-11T03:04:20.039718', 'gensim': '4.3.1', 'python': '3.9.7 (default, Sep 16 2021, 16:59:28) [MSC v.1916 64 bit (AMD64)]', 'platform': 'Windows-10-10.0.22000-SP0', 'event': 'build_vocab'}\n"
     ]
    }
   ],
   "source": [
    "w2v_model.build_vocab(documents)"
   ]
  },
  {
   "cell_type": "code",
   "execution_count": 76,
   "metadata": {
    "_uuid": "72a5628ca81fd4b8983c12d93ae0bf950b86b6ae"
   },
   "outputs": [
    {
     "name": "stdout",
     "output_type": "stream",
     "text": [
      "Vocab size 13400\n"
     ]
    }
   ],
   "source": [
    "words = w2v_model.wv\n",
    "vocab_size = len(words)\n",
    "print(\"Vocab size\", vocab_size)"
   ]
  },
  {
   "cell_type": "code",
   "execution_count": 77,
   "metadata": {
    "_uuid": "68c3e4a5ba07cac3dee67f78ecdd1404c7f83f14"
   },
   "outputs": [
    {
     "name": "stderr",
     "output_type": "stream",
     "text": [
      "2023-05-11 03:05:43,053 : INFO : Word2Vec lifecycle event {'msg': 'training model with 8 workers on 13400 vocabulary and 100 features, using sg=0 hs=0 sample=0.001 negative=5 window=7 shrink_windows=True', 'datetime': '2023-05-11T03:05:43.053402', 'gensim': '4.3.1', 'python': '3.9.7 (default, Sep 16 2021, 16:59:28) [MSC v.1916 64 bit (AMD64)]', 'platform': 'Windows-10-10.0.22000-SP0', 'event': 'train'}\n",
      "2023-05-11 03:05:44,151 : INFO : EPOCH 0 - PROGRESS: at 84.49% examples, 1637213 words/s, in_qsize 14, out_qsize 1\n",
      "2023-05-11 03:05:44,305 : INFO : EPOCH 0: training on 2308778 raw words (1974905 effective words) took 1.2s, 1684480 effective words/s\n",
      "2023-05-11 03:05:45,329 : INFO : EPOCH 1 - PROGRESS: at 77.11% examples, 1517265 words/s, in_qsize 12, out_qsize 3\n",
      "2023-05-11 03:05:45,573 : INFO : EPOCH 1: training on 2308778 raw words (1974818 effective words) took 1.2s, 1581481 effective words/s\n",
      "2023-05-11 03:05:46,607 : INFO : EPOCH 2 - PROGRESS: at 85.79% examples, 1687463 words/s, in_qsize 15, out_qsize 0\n",
      "2023-05-11 03:05:46,760 : INFO : EPOCH 2: training on 2308778 raw words (1974983 effective words) took 1.2s, 1704478 effective words/s\n",
      "2023-05-11 03:05:47,779 : INFO : EPOCH 3 - PROGRESS: at 85.81% examples, 1683933 words/s, in_qsize 15, out_qsize 0\n",
      "2023-05-11 03:05:47,951 : INFO : EPOCH 3: training on 2308778 raw words (1975303 effective words) took 1.2s, 1689050 effective words/s\n",
      "2023-05-11 03:05:48,992 : INFO : EPOCH 4 - PROGRESS: at 89.68% examples, 1727663 words/s, in_qsize 15, out_qsize 0\n",
      "2023-05-11 03:05:49,079 : INFO : EPOCH 4: training on 2308778 raw words (1975164 effective words) took 1.1s, 1779642 effective words/s\n",
      "2023-05-11 03:05:50,110 : INFO : EPOCH 5 - PROGRESS: at 84.07% examples, 1650388 words/s, in_qsize 15, out_qsize 0\n",
      "2023-05-11 03:05:50,277 : INFO : EPOCH 5: training on 2308778 raw words (1975296 effective words) took 1.2s, 1694376 effective words/s\n",
      "2023-05-11 03:05:51,304 : INFO : EPOCH 6 - PROGRESS: at 86.23% examples, 1688655 words/s, in_qsize 15, out_qsize 0\n",
      "2023-05-11 03:05:51,502 : INFO : EPOCH 6: training on 2308778 raw words (1975381 effective words) took 1.2s, 1637484 effective words/s\n",
      "2023-05-11 03:05:52,546 : INFO : EPOCH 7 - PROGRESS: at 60.63% examples, 1179736 words/s, in_qsize 14, out_qsize 1\n",
      "2023-05-11 03:05:52,987 : INFO : EPOCH 7: training on 2308778 raw words (1974746 effective words) took 1.5s, 1360248 effective words/s\n",
      "2023-05-11 03:05:54,049 : INFO : EPOCH 8 - PROGRESS: at 85.37% examples, 1650976 words/s, in_qsize 14, out_qsize 1\n",
      "2023-05-11 03:05:54,173 : INFO : EPOCH 8: training on 2308778 raw words (1975196 effective words) took 1.1s, 1720079 effective words/s\n",
      "2023-05-11 03:05:55,207 : INFO : EPOCH 9 - PROGRESS: at 81.45% examples, 1603464 words/s, in_qsize 14, out_qsize 1\n",
      "2023-05-11 03:05:55,383 : INFO : EPOCH 9: training on 2308778 raw words (1974660 effective words) took 1.2s, 1671172 effective words/s\n",
      "2023-05-11 03:05:56,434 : INFO : EPOCH 10 - PROGRESS: at 77.55% examples, 1504552 words/s, in_qsize 15, out_qsize 0\n",
      "2023-05-11 03:05:56,918 : INFO : EPOCH 10: training on 2308778 raw words (1974816 effective words) took 1.5s, 1315115 effective words/s\n",
      "2023-05-11 03:05:57,945 : INFO : EPOCH 11 - PROGRESS: at 44.60% examples, 878561 words/s, in_qsize 15, out_qsize 0\n",
      "2023-05-11 03:05:58,938 : INFO : EPOCH 11 - PROGRESS: at 97.85% examples, 961222 words/s, in_qsize 5, out_qsize 1\n",
      "2023-05-11 03:05:58,978 : INFO : EPOCH 11: training on 2308778 raw words (1975125 effective words) took 2.0s, 969690 effective words/s\n",
      "2023-05-11 03:06:00,008 : INFO : EPOCH 12 - PROGRESS: at 51.98% examples, 1021488 words/s, in_qsize 15, out_qsize 0\n",
      "2023-05-11 03:06:00,834 : INFO : EPOCH 12: training on 2308778 raw words (1975016 effective words) took 1.8s, 1078116 effective words/s\n",
      "2023-05-11 03:06:01,866 : INFO : EPOCH 13 - PROGRESS: at 61.07% examples, 1201943 words/s, in_qsize 15, out_qsize 0\n",
      "2023-05-11 03:06:02,403 : INFO : EPOCH 13: training on 2308778 raw words (1975659 effective words) took 1.5s, 1279532 effective words/s\n",
      "2023-05-11 03:06:03,439 : INFO : EPOCH 14 - PROGRESS: at 62.38% examples, 1224206 words/s, in_qsize 15, out_qsize 0\n",
      "2023-05-11 03:06:03,979 : INFO : EPOCH 14: training on 2308778 raw words (1974432 effective words) took 1.5s, 1275262 effective words/s\n",
      "2023-05-11 03:06:05,011 : INFO : EPOCH 15 - PROGRESS: at 64.97% examples, 1282923 words/s, in_qsize 14, out_qsize 1\n",
      "2023-05-11 03:06:05,527 : INFO : EPOCH 15: training on 2308778 raw words (1975130 effective words) took 1.5s, 1293295 effective words/s\n",
      "2023-05-11 03:06:06,562 : INFO : EPOCH 16 - PROGRESS: at 58.49% examples, 1153899 words/s, in_qsize 16, out_qsize 1\n",
      "2023-05-11 03:06:07,163 : INFO : EPOCH 16: training on 2308778 raw words (1974986 effective words) took 1.6s, 1228206 effective words/s\n",
      "2023-05-11 03:06:08,203 : INFO : EPOCH 17 - PROGRESS: at 65.83% examples, 1284198 words/s, in_qsize 15, out_qsize 0\n",
      "2023-05-11 03:06:08,705 : INFO : EPOCH 17: training on 2308778 raw words (1974949 effective words) took 1.5s, 1298527 effective words/s\n",
      "2023-05-11 03:06:09,762 : INFO : EPOCH 18 - PROGRESS: at 60.20% examples, 1184729 words/s, in_qsize 14, out_qsize 1\n",
      "2023-05-11 03:06:10,314 : INFO : EPOCH 18: training on 2308778 raw words (1975313 effective words) took 1.6s, 1263880 effective words/s\n",
      "2023-05-11 03:06:11,344 : INFO : EPOCH 19 - PROGRESS: at 53.28% examples, 1046406 words/s, in_qsize 16, out_qsize 0\n",
      "2023-05-11 03:06:12,023 : INFO : EPOCH 19: training on 2308778 raw words (1975469 effective words) took 1.7s, 1170962 effective words/s\n",
      "2023-05-11 03:06:13,059 : INFO : EPOCH 20 - PROGRESS: at 62.38% examples, 1222528 words/s, in_qsize 14, out_qsize 1\n",
      "2023-05-11 03:06:13,572 : INFO : EPOCH 20: training on 2308778 raw words (1974836 effective words) took 1.5s, 1297395 effective words/s\n",
      "2023-05-11 03:06:14,602 : INFO : EPOCH 21 - PROGRESS: at 63.68% examples, 1255005 words/s, in_qsize 14, out_qsize 1\n",
      "2023-05-11 03:06:15,101 : INFO : EPOCH 21: training on 2308778 raw words (1975095 effective words) took 1.5s, 1316842 effective words/s\n",
      "2023-05-11 03:06:16,130 : INFO : EPOCH 22 - PROGRESS: at 64.97% examples, 1278738 words/s, in_qsize 15, out_qsize 0\n",
      "2023-05-11 03:06:16,674 : INFO : EPOCH 22: training on 2308778 raw words (1974841 effective words) took 1.6s, 1268508 effective words/s\n",
      "2023-05-11 03:06:17,707 : INFO : EPOCH 23 - PROGRESS: at 64.54% examples, 1263870 words/s, in_qsize 15, out_qsize 0\n",
      "2023-05-11 03:06:18,233 : INFO : EPOCH 23: training on 2308778 raw words (1975507 effective words) took 1.5s, 1284723 effective words/s\n",
      "2023-05-11 03:06:19,282 : INFO : EPOCH 24 - PROGRESS: at 62.81% examples, 1209709 words/s, in_qsize 14, out_qsize 1\n",
      "2023-05-11 03:06:19,773 : INFO : EPOCH 24: training on 2308778 raw words (1974559 effective words) took 1.5s, 1301834 effective words/s\n",
      "2023-05-11 03:06:20,805 : INFO : EPOCH 25 - PROGRESS: at 64.97% examples, 1275059 words/s, in_qsize 14, out_qsize 1\n",
      "2023-05-11 03:06:21,314 : INFO : EPOCH 25: training on 2308778 raw words (1975125 effective words) took 1.5s, 1312574 effective words/s\n",
      "2023-05-11 03:06:22,326 : INFO : EPOCH 26 - PROGRESS: at 62.82% examples, 1236329 words/s, in_qsize 15, out_qsize 0\n",
      "2023-05-11 03:06:22,846 : INFO : EPOCH 26: training on 2308778 raw words (1974893 effective words) took 1.5s, 1296242 effective words/s\n",
      "2023-05-11 03:06:23,892 : INFO : EPOCH 27 - PROGRESS: at 65.39% examples, 1277204 words/s, in_qsize 15, out_qsize 0\n",
      "2023-05-11 03:06:24,420 : INFO : EPOCH 27: training on 2308778 raw words (1975101 effective words) took 1.5s, 1274793 effective words/s\n",
      "2023-05-11 03:06:25,452 : INFO : EPOCH 28 - PROGRESS: at 56.74% examples, 1117444 words/s, in_qsize 15, out_qsize 3\n",
      "2023-05-11 03:06:26,126 : INFO : EPOCH 28: training on 2308778 raw words (1974775 effective words) took 1.7s, 1184687 effective words/s\n",
      "2023-05-11 03:06:27,156 : INFO : EPOCH 29 - PROGRESS: at 64.11% examples, 1245894 words/s, in_qsize 15, out_qsize 0\n",
      "2023-05-11 03:06:27,668 : INFO : EPOCH 29: training on 2308778 raw words (1975295 effective words) took 1.5s, 1289995 effective words/s\n",
      "2023-05-11 03:06:28,703 : INFO : EPOCH 30 - PROGRESS: at 65.39% examples, 1285437 words/s, in_qsize 15, out_qsize 0\n",
      "2023-05-11 03:06:29,219 : INFO : EPOCH 30: training on 2308778 raw words (1975259 effective words) took 1.5s, 1289221 effective words/s\n"
     ]
    },
    {
     "name": "stderr",
     "output_type": "stream",
     "text": [
      "2023-05-11 03:06:30,274 : INFO : EPOCH 31 - PROGRESS: at 62.81% examples, 1216148 words/s, in_qsize 14, out_qsize 1\n",
      "2023-05-11 03:06:30,789 : INFO : EPOCH 31: training on 2308778 raw words (1975204 effective words) took 1.5s, 1291678 effective words/s\n",
      "2023-05-11 03:06:30,789 : INFO : Word2Vec lifecycle event {'msg': 'training on 73880896 raw words (63201837 effective words) took 47.7s, 1324115 effective words/s', 'datetime': '2023-05-11T03:06:30.789847', 'gensim': '4.3.1', 'python': '3.9.7 (default, Sep 16 2021, 16:59:28) [MSC v.1916 64 bit (AMD64)]', 'platform': 'Windows-10-10.0.22000-SP0', 'event': 'train'}\n"
     ]
    },
    {
     "name": "stdout",
     "output_type": "stream",
     "text": [
      "Wall time: 47.7 s\n"
     ]
    },
    {
     "data": {
      "text/plain": [
       "(63201837, 73880896)"
      ]
     },
     "execution_count": 77,
     "metadata": {},
     "output_type": "execute_result"
    }
   ],
   "source": [
    "%%time\n",
    "w2v_model.train(documents, total_examples=len(documents), epochs=W2V_EPOCH)"
   ]
  },
  {
   "cell_type": "code",
   "execution_count": 78,
   "metadata": {
    "_uuid": "27cc2651c74227115d8bfd8c40e5618048e05edd"
   },
   "outputs": [
    {
     "data": {
      "text/plain": [
       "[('loves', 0.6169880628585815),\n",
       " ('luv', 0.5865406394004822),\n",
       " ('loved', 0.5741199254989624),\n",
       " ('amazing', 0.5699005126953125),\n",
       " ('adore', 0.5637962818145752),\n",
       " ('lovee', 0.5291818976402283),\n",
       " ('loooove', 0.5174007415771484),\n",
       " ('duet', 0.5119617581367493),\n",
       " ('awesome', 0.4815954864025116),\n",
       " ('selenagomez', 0.4807559847831726)]"
      ]
     },
     "execution_count": 78,
     "metadata": {},
     "output_type": "execute_result"
    }
   ],
   "source": [
    "w2v_model.wv.most_similar(\"love\")"
   ]
  },
  {
   "cell_type": "markdown",
   "metadata": {
    "_uuid": "e13563644468037258598637b49373ca96b9b879"
   },
   "source": [
    "### Tokenize Text"
   ]
  },
  {
   "cell_type": "code",
   "execution_count": 79,
   "metadata": {
    "_uuid": "6852bc709a7cd20173cbeeb218505078f8f37c57"
   },
   "outputs": [
    {
     "name": "stdout",
     "output_type": "stream",
     "text": [
      "Total words 120031\n",
      "Wall time: 4.23 s\n"
     ]
    }
   ],
   "source": [
    "\n",
    "%%time\n",
    "tokenizer = Tokenizer()\n",
    "tokenizer.fit_on_texts(df_train.text)\n",
    "\n",
    "vocab_size = len(tokenizer.word_index) + 1\n",
    "print(\"Total words\", vocab_size)"
   ]
  },
  {
   "cell_type": "code",
   "execution_count": 80,
   "metadata": {
    "_uuid": "45de439df3015030c71f84c2d170346936a1d68f"
   },
   "outputs": [
    {
     "data": {
      "text/plain": [
       "80000"
      ]
     },
     "execution_count": 80,
     "metadata": {},
     "output_type": "execute_result"
    }
   ],
   "source": [
    "from keras_preprocessing.sequence import pad_sequences\n",
    "\n",
    "x_train = pad_sequences(tokenizer.texts_to_sequences(df_train.text), maxlen=SEQUENCE_LENGTH)\n",
    "x_test = pad_sequences(tokenizer.texts_to_sequences(df_test.text), maxlen=SEQUENCE_LENGTH)\n",
    "len(x_test)"
   ]
  },
  {
   "cell_type": "markdown",
   "metadata": {
    "_uuid": "03b35903fc6260e190d6928d240ef7432de117fc"
   },
   "source": [
    "### Label Encoder "
   ]
  },
  {
   "cell_type": "code",
   "execution_count": 81,
   "metadata": {
    "_uuid": "33676e0efa39e97d89bd650b8b4eae933a22fbf0"
   },
   "outputs": [
    {
     "data": {
      "text/plain": [
       "['NEGATIVE', 'POSITIVE', 'NEUTRAL']"
      ]
     },
     "execution_count": 81,
     "metadata": {},
     "output_type": "execute_result"
    }
   ],
   "source": [
    "labels = df_train.target.unique().tolist()\n",
    "labels.append(NEUTRAL)\n",
    "labels"
   ]
  },
  {
   "cell_type": "code",
   "execution_count": 82,
   "metadata": {
    "_uuid": "04239a9bef76e7922fd86098a5601dfde8ee4665"
   },
   "outputs": [
    {
     "name": "stdout",
     "output_type": "stream",
     "text": [
      "y_train (320000, 1)\n",
      "y_test (80000, 1)\n"
     ]
    }
   ],
   "source": [
    "encoder = LabelEncoder()\n",
    "encoder.fit(df_train.target.tolist())\n",
    "\n",
    "y_train = encoder.transform(df_train.target.tolist())\n",
    "y_test = encoder.transform(df_test.target.tolist())\n",
    "\n",
    "y_train = y_train.reshape(-1,1)\n",
    "y_test = y_test.reshape(-1,1)\n",
    "\n",
    "print(\"y_train\",y_train.shape)\n",
    "print(\"y_test\",y_test.shape)"
   ]
  },
  {
   "cell_type": "code",
   "execution_count": 83,
   "metadata": {
    "_uuid": "04299c886911ca135583ab64878f213939a2990c"
   },
   "outputs": [
    {
     "name": "stdout",
     "output_type": "stream",
     "text": [
      "x_train (320000, 300)\n",
      "y_train (320000, 1)\n",
      "\n",
      "x_test (80000, 300)\n",
      "y_test (80000, 1)\n"
     ]
    }
   ],
   "source": [
    "print(\"x_train\", x_train.shape)\n",
    "print(\"y_train\", y_train.shape)\n",
    "print()\n",
    "print(\"x_test\", x_test.shape)\n",
    "print(\"y_test\", y_test.shape)"
   ]
  },
  {
   "cell_type": "code",
   "execution_count": 84,
   "metadata": {
    "_uuid": "232533fb27b7be99d9b8c2f8fb22c9c6bf121a6f"
   },
   "outputs": [
    {
     "data": {
      "text/plain": [
       "array([[0],\n",
       "       [0],\n",
       "       [1],\n",
       "       [1],\n",
       "       [0],\n",
       "       [1],\n",
       "       [0],\n",
       "       [1],\n",
       "       [0],\n",
       "       [1]])"
      ]
     },
     "execution_count": 84,
     "metadata": {},
     "output_type": "execute_result"
    }
   ],
   "source": [
    "y_train[:10]"
   ]
  },
  {
   "cell_type": "markdown",
   "metadata": {
    "_uuid": "233c0ea94055a03e2e7df3e2a13d036ec963484f"
   },
   "source": [
    "### Embedding layer"
   ]
  },
  {
   "cell_type": "code",
   "execution_count": 87,
   "metadata": {
    "_uuid": "9ab488374b59e3f30f8b1ea92767d853c4846bac"
   },
   "outputs": [
    {
     "name": "stdout",
     "output_type": "stream",
     "text": [
      "(120031, 100)\n"
     ]
    }
   ],
   "source": [
    "embedding_matrix = np.zeros((vocab_size, 100))\n",
    "for word, i in tokenizer.word_index.items():\n",
    "  if word in w2v_model.wv:\n",
    "    embedding_matrix[i] = w2v_model.wv[word]\n",
    "print(embedding_matrix.shape)"
   ]
  },
  {
   "cell_type": "code",
   "execution_count": 88,
   "metadata": {
    "_uuid": "833279d91e4286065968237fb5f2a0c2dd4d246c"
   },
   "outputs": [],
   "source": [
    "embedding_layer = Embedding(vocab_size, 100, weights=[embedding_matrix], input_length=SEQUENCE_LENGTH, trainable=False)"
   ]
  },
  {
   "cell_type": "markdown",
   "metadata": {
    "_uuid": "b299ef78f94c2085942c993a2d58753a7476305a"
   },
   "source": [
    "### Build Model"
   ]
  },
  {
   "cell_type": "code",
   "execution_count": 105,
   "metadata": {
    "_uuid": "e775ef4f1b74e6412457181383c39f2df554ef3f"
   },
   "outputs": [
    {
     "name": "stdout",
     "output_type": "stream",
     "text": [
      "Model: \"sequential_7\"\n",
      "_________________________________________________________________\n",
      " Layer (type)                Output Shape              Param #   \n",
      "=================================================================\n",
      " embedding_2 (Embedding)     (None, 300, 100)          12003100  \n",
      "                                                                 \n",
      " dropout_6 (Dropout)         (None, 300, 100)          0         \n",
      "                                                                 \n",
      " lstm_6 (LSTM)               (None, 25)                12600     \n",
      "                                                                 \n",
      " dense_6 (Dense)             (None, 1)                 26        \n",
      "                                                                 \n",
      "=================================================================\n",
      "Total params: 12,015,726\n",
      "Trainable params: 12,626\n",
      "Non-trainable params: 12,003,100\n",
      "_________________________________________________________________\n"
     ]
    }
   ],
   "source": [
    "model = Sequential()\n",
    "model.add(embedding_layer)\n",
    "model.add(Dropout(0.2))\n",
    "model.add(LSTM(25, dropout=0.1, recurrent_dropout=0.1))\n",
    "model.add(Dense(1, activation='sigmoid'))\n",
    "\n",
    "model.summary()"
   ]
  },
  {
   "cell_type": "markdown",
   "metadata": {
    "_uuid": "28d22eafd0c7d798dcf3d742bc92fb8577939e6c"
   },
   "source": [
    "### Compile model"
   ]
  },
  {
   "cell_type": "code",
   "execution_count": 106,
   "metadata": {
    "_uuid": "1331e08d590bb2aa2033706c8faca217afc0f1c3"
   },
   "outputs": [],
   "source": [
    "model.compile(loss='binary_crossentropy',\n",
    "              optimizer=\"adam\",\n",
    "              metrics=['accuracy'])"
   ]
  },
  {
   "cell_type": "markdown",
   "metadata": {
    "_uuid": "c7733127cb8b380e0c807268903bf4d03ef92542"
   },
   "source": [
    "### Callbacks"
   ]
  },
  {
   "cell_type": "code",
   "execution_count": 107,
   "metadata": {
    "_uuid": "a688df590386f5748da6fe00b01904fe6c71619e"
   },
   "outputs": [],
   "source": [
    "callbacks = [ ReduceLROnPlateau(monitor='val_loss', patience=5, cooldown=0),\n",
    "              EarlyStopping(monitor='val_accuracy', min_delta=1e-4, patience=5)]"
   ]
  },
  {
   "cell_type": "markdown",
   "metadata": {
    "_uuid": "8d0873633dd49179c8cae17377641b97d323ef3b"
   },
   "source": [
    "### Train"
   ]
  },
  {
   "cell_type": "code",
   "execution_count": 108,
   "metadata": {
    "_uuid": "2b659d390c6577dc5cdb6b6297934279b4e801d5"
   },
   "outputs": [
    {
     "name": "stdout",
     "output_type": "stream",
     "text": [
      "Epoch 1/8\n",
      "282/282 [==============================] - ETA: 0s - loss: 0.5472 - accuracy: 0.7211WARNING:tensorflow:Early stopping conditioned on metric `val_acc` which is not available. Available metrics are: loss,accuracy,val_loss,val_accuracy,lr\n"
     ]
    },
    {
     "name": "stderr",
     "output_type": "stream",
     "text": [
      "2023-05-11 04:19:28,945 : WARNING : Early stopping conditioned on metric `val_acc` which is not available. Available metrics are: loss,accuracy,val_loss,val_accuracy,lr\n"
     ]
    },
    {
     "name": "stdout",
     "output_type": "stream",
     "text": [
      "282/282 [==============================] - 2596s 9s/step - loss: 0.5472 - accuracy: 0.7211 - val_loss: 0.4970 - val_accuracy: 0.7582 - lr: 0.0010\n",
      "Epoch 2/8\n",
      "282/282 [==============================] - ETA: 0s - loss: 0.5106 - accuracy: 0.7473WARNING:tensorflow:Early stopping conditioned on metric `val_acc` which is not available. Available metrics are: loss,accuracy,val_loss,val_accuracy,lr\n"
     ]
    },
    {
     "name": "stderr",
     "output_type": "stream",
     "text": [
      "2023-05-11 05:01:50,615 : WARNING : Early stopping conditioned on metric `val_acc` which is not available. Available metrics are: loss,accuracy,val_loss,val_accuracy,lr\n"
     ]
    },
    {
     "name": "stdout",
     "output_type": "stream",
     "text": [
      "282/282 [==============================] - 2542s 9s/step - loss: 0.5106 - accuracy: 0.7473 - val_loss: 0.4861 - val_accuracy: 0.7642 - lr: 0.0010\n",
      "Epoch 3/8\n",
      "282/282 [==============================] - ETA: 0s - loss: 0.5004 - accuracy: 0.7532WARNING:tensorflow:Early stopping conditioned on metric `val_acc` which is not available. Available metrics are: loss,accuracy,val_loss,val_accuracy,lr\n"
     ]
    },
    {
     "name": "stderr",
     "output_type": "stream",
     "text": [
      "2023-05-11 05:44:04,595 : WARNING : Early stopping conditioned on metric `val_acc` which is not available. Available metrics are: loss,accuracy,val_loss,val_accuracy,lr\n"
     ]
    },
    {
     "name": "stdout",
     "output_type": "stream",
     "text": [
      "282/282 [==============================] - 2534s 9s/step - loss: 0.5004 - accuracy: 0.7532 - val_loss: 0.4804 - val_accuracy: 0.7666 - lr: 0.0010\n",
      "Epoch 4/8\n",
      "282/282 [==============================] - ETA: 0s - loss: 0.4952 - accuracy: 0.7561WARNING:tensorflow:Early stopping conditioned on metric `val_acc` which is not available. Available metrics are: loss,accuracy,val_loss,val_accuracy,lr\n"
     ]
    },
    {
     "name": "stderr",
     "output_type": "stream",
     "text": [
      "2023-05-11 06:26:18,510 : WARNING : Early stopping conditioned on metric `val_acc` which is not available. Available metrics are: loss,accuracy,val_loss,val_accuracy,lr\n"
     ]
    },
    {
     "name": "stdout",
     "output_type": "stream",
     "text": [
      "282/282 [==============================] - 2534s 9s/step - loss: 0.4952 - accuracy: 0.7561 - val_loss: 0.4771 - val_accuracy: 0.7675 - lr: 0.0010\n",
      "Epoch 5/8\n",
      "282/282 [==============================] - ETA: 0s - loss: 0.4910 - accuracy: 0.7593WARNING:tensorflow:Early stopping conditioned on metric `val_acc` which is not available. Available metrics are: loss,accuracy,val_loss,val_accuracy,lr\n"
     ]
    },
    {
     "name": "stderr",
     "output_type": "stream",
     "text": [
      "2023-05-11 07:08:23,769 : WARNING : Early stopping conditioned on metric `val_acc` which is not available. Available metrics are: loss,accuracy,val_loss,val_accuracy,lr\n"
     ]
    },
    {
     "name": "stdout",
     "output_type": "stream",
     "text": [
      "282/282 [==============================] - 2525s 9s/step - loss: 0.4910 - accuracy: 0.7593 - val_loss: 0.4740 - val_accuracy: 0.7701 - lr: 0.0010\n",
      "Epoch 6/8\n",
      "282/282 [==============================] - ETA: 0s - loss: 0.4887 - accuracy: 0.7609WARNING:tensorflow:Early stopping conditioned on metric `val_acc` which is not available. Available metrics are: loss,accuracy,val_loss,val_accuracy,lr\n"
     ]
    },
    {
     "name": "stderr",
     "output_type": "stream",
     "text": [
      "2023-05-11 07:50:11,725 : WARNING : Early stopping conditioned on metric `val_acc` which is not available. Available metrics are: loss,accuracy,val_loss,val_accuracy,lr\n"
     ]
    },
    {
     "name": "stdout",
     "output_type": "stream",
     "text": [
      "282/282 [==============================] - 2508s 9s/step - loss: 0.4887 - accuracy: 0.7609 - val_loss: 0.4722 - val_accuracy: 0.7714 - lr: 0.0010\n",
      "Epoch 7/8\n",
      "282/282 [==============================] - ETA: 0s - loss: 0.4856 - accuracy: 0.7635WARNING:tensorflow:Early stopping conditioned on metric `val_acc` which is not available. Available metrics are: loss,accuracy,val_loss,val_accuracy,lr\n"
     ]
    },
    {
     "name": "stderr",
     "output_type": "stream",
     "text": [
      "2023-05-11 08:31:58,252 : WARNING : Early stopping conditioned on metric `val_acc` which is not available. Available metrics are: loss,accuracy,val_loss,val_accuracy,lr\n"
     ]
    },
    {
     "name": "stdout",
     "output_type": "stream",
     "text": [
      "282/282 [==============================] - 2507s 9s/step - loss: 0.4856 - accuracy: 0.7635 - val_loss: 0.4715 - val_accuracy: 0.7722 - lr: 0.0010\n",
      "Epoch 8/8\n",
      "282/282 [==============================] - ETA: 0s - loss: 0.4846 - accuracy: 0.7632WARNING:tensorflow:Early stopping conditioned on metric `val_acc` which is not available. Available metrics are: loss,accuracy,val_loss,val_accuracy,lr\n"
     ]
    },
    {
     "name": "stderr",
     "output_type": "stream",
     "text": [
      "2023-05-11 09:13:43,502 : WARNING : Early stopping conditioned on metric `val_acc` which is not available. Available metrics are: loss,accuracy,val_loss,val_accuracy,lr\n"
     ]
    },
    {
     "name": "stdout",
     "output_type": "stream",
     "text": [
      "282/282 [==============================] - 2505s 9s/step - loss: 0.4846 - accuracy: 0.7632 - val_loss: 0.4693 - val_accuracy: 0.7735 - lr: 0.0010\n",
      "Wall time: 5h 37min 31s\n"
     ]
    }
   ],
   "source": [
    "%%time\n",
    "history = model.fit(x_train, y_train,\n",
    "                    batch_size=1024,\n",
    "                    epochs=EPOCHS,\n",
    "                    validation_split=0.1,\n",
    "                    verbose=1,\n",
    "                    callbacks=callbacks)"
   ]
  },
  {
   "cell_type": "markdown",
   "metadata": {
    "_uuid": "267258196d96796ac69a7b8c466314bcf5d6ee42"
   },
   "source": [
    "### Evaluate"
   ]
  },
  {
   "cell_type": "code",
   "execution_count": 109,
   "metadata": {
    "_uuid": "98ecd8f1b8b74594c3ea775dd68a094e92458022"
   },
   "outputs": [
    {
     "name": "stdout",
     "output_type": "stream",
     "text": [
      "79/79 [==============================] - 53s 669ms/step - loss: 0.4695 - accuracy: 0.7747\n",
      "\n",
      "ACCURACY: 0.7746875286102295\n",
      "LOSS: 0.46946629881858826\n",
      "Wall time: 54.7 s\n"
     ]
    }
   ],
   "source": [
    "%%time\n",
    "score = model.evaluate(x_test, y_test, batch_size=BATCH_SIZE)\n",
    "print()\n",
    "print(\"ACCURACY:\",score[1])\n",
    "print(\"LOSS:\",score[0])"
   ]
  },
  {
   "cell_type": "code",
   "execution_count": 112,
   "metadata": {
    "_uuid": "40c72cd1e9d6c4fd799cbba7c813765ac4039dfc"
   },
   "outputs": [
    {
     "data": {
      "image/png": "[encoded data removed]",
      "text/plain": [
       "<Figure size 432x288 with 1 Axes>"
      ]
     },
     "metadata": {
      "needs_background": "light"
     },
     "output_type": "display_data"
    },
    {
     "data": {
      "image/png": "[encoded data removed]",
      "text/plain": [
       "<Figure size 432x288 with 1 Axes>"
      ]
     },
     "metadata": {
      "needs_background": "light"
     },
     "output_type": "display_data"
    }
   ],
   "source": [
    "acc = history.history['accuracy']\n",
    "val_acc = history.history['val_accuracy']\n",
    "loss = history.history['loss']\n",
    "val_loss = history.history['val_loss']\n",
    " \n",
    "epochs = range(len(acc))\n",
    " \n",
    "plt.plot(epochs, acc, 'b', label='Training acc')\n",
    "plt.plot(epochs, val_acc, 'r', label='Validation acc')\n",
    "plt.title('Training and validation accuracy')\n",
    "plt.legend()\n",
    " \n",
    "plt.figure()\n",
    " \n",
    "plt.plot(epochs, loss, 'b', label='Training loss')\n",
    "plt.plot(epochs, val_loss, 'r', label='Validation loss')\n",
    "plt.title('Training and validation loss')\n",
    "plt.legend()\n",
    " \n",
    "plt.show()"
   ]
  },
  {
   "cell_type": "markdown",
   "metadata": {
    "_uuid": "6bdfc0f6a6af5bebc0271d83dd7432c91001409b"
   },
   "source": [
    "### Predict"
   ]
  },
  {
   "cell_type": "code",
   "execution_count": 113,
   "metadata": {
    "_uuid": "f0b0fa3d4b1bb14b3f5e3d169a369f3ebef29ae1"
   },
   "outputs": [],
   "source": [
    "def decode_sentiment(score, include_neutral=True):\n",
    "    if include_neutral:        \n",
    "        label = NEUTRAL\n",
    "        if score <= SENTIMENT_THRESHOLDS[0]:\n",
    "            label = NEGATIVE\n",
    "        elif score >= SENTIMENT_THRESHOLDS[1]:\n",
    "            label = POSITIVE\n",
    "\n",
    "        return label\n",
    "    else:\n",
    "        return NEGATIVE if score < 0.5 else POSITIVE"
   ]
  },
  {
   "cell_type": "code",
   "execution_count": 114,
   "metadata": {
    "_uuid": "ed4086d651f2f8cbed11d3c909a8873607d29a06"
   },
   "outputs": [],
   "source": [
    "def predict(text, include_neutral=True):\n",
    "    start_at = time.time()\n",
    "    # Tokenize text\n",
    "    x_test = pad_sequences(tokenizer.texts_to_sequences([text]), maxlen=SEQUENCE_LENGTH)\n",
    "    # Predict\n",
    "    score = model.predict([x_test])[0]\n",
    "    # Decode sentiment\n",
    "    label = decode_sentiment(score, include_neutral=include_neutral)\n",
    "\n",
    "    return {\"label\": label, \"score\": float(score),\n",
    "       \"elapsed_time\": time.time()-start_at}  "
   ]
  },
  {
   "cell_type": "code",
   "execution_count": 115,
   "metadata": {
    "_uuid": "ca38b1e6c9b5acfed7467de2cf02a78333108872"
   },
   "outputs": [
    {
     "name": "stdout",
     "output_type": "stream",
     "text": [
      "1/1 [==============================] - 0s 491ms/step\n"
     ]
    },
    {
     "data": {
      "text/plain": [
       "{'label': 'POSITIVE',\n",
       " 'score': 0.9702490568161011,\n",
       " 'elapsed_time': 0.5892667770385742}"
      ]
     },
     "execution_count": 115,
     "metadata": {},
     "output_type": "execute_result"
    }
   ],
   "source": [
    "predict(\"I love the music\")"
   ]
  },
  {
   "cell_type": "code",
   "execution_count": 116,
   "metadata": {
    "_uuid": "0e5fe647533be0148850de349fea6ef6f71303d1"
   },
   "outputs": [
    {
     "name": "stdout",
     "output_type": "stream",
     "text": [
      "1/1 [==============================] - 0s 45ms/step\n"
     ]
    },
    {
     "data": {
      "text/plain": [
       "{'label': 'NEGATIVE',\n",
       " 'score': 0.018098624423146248,\n",
       " 'elapsed_time': 0.08788704872131348}"
      ]
     },
     "execution_count": 116,
     "metadata": {},
     "output_type": "execute_result"
    }
   ],
   "source": [
    "predict(\"I hate the rain\")"
   ]
  },
  {
   "cell_type": "code",
   "execution_count": 117,
   "metadata": {
    "_uuid": "37064dffcc8920d34ccd54fac7c8b50e583a8269"
   },
   "outputs": [
    {
     "name": "stdout",
     "output_type": "stream",
     "text": [
      "1/1 [==============================] - 0s 35ms/step\n"
     ]
    },
    {
     "data": {
      "text/plain": [
       "{'label': 'NEUTRAL',\n",
       " 'score': 0.4369674026966095,\n",
       " 'elapsed_time': 0.09511041641235352}"
      ]
     },
     "execution_count": 117,
     "metadata": {},
     "output_type": "execute_result"
    }
   ],
   "source": [
    "predict(\"i don't know what i'm doing\")"
   ]
  },
  {
   "cell_type": "markdown",
   "metadata": {
    "_uuid": "3ee72e47f84b6dbc32e02a783de5ec1661f157e1"
   },
   "source": [
    "### Confusion Matrix"
   ]
  },
  {
   "cell_type": "code",
   "execution_count": 118,
   "metadata": {
    "_uuid": "0e920173eb05f04aecdd735bc5dff0f5be5f8d15"
   },
   "outputs": [
    {
     "name": "stdout",
     "output_type": "stream",
     "text": [
      "10/10 [==============================] - 53s 5s/step\n",
      "Wall time: 53 s\n"
     ]
    }
   ],
   "source": [
    "%%time\n",
    "y_pred_1d = []\n",
    "y_test_1d = list(df_test.target)\n",
    "scores = model.predict(x_test, verbose=1, batch_size=8000)\n",
    "y_pred_1d = [decode_sentiment(score, include_neutral=False) for score in scores]"
   ]
  },
  {
   "cell_type": "code",
   "execution_count": 119,
   "metadata": {
    "_uuid": "b3575191bb425ab871f3f41e83812ee84bb7e595"
   },
   "outputs": [],
   "source": [
    "def plot_confusion_matrix(cm, classes,\n",
    "                          title='Confusion matrix',\n",
    "                          cmap=plt.cm.Blues):\n",
    "    \"\"\"\n",
    "    This function prints and plots the confusion matrix.\n",
    "    Normalization can be applied by setting `normalize=True`.\n",
    "    \"\"\"\n",
    "\n",
    "    cm = cm.astype('float') / cm.sum(axis=1)[:, np.newaxis]\n",
    "\n",
    "    plt.imshow(cm, interpolation='nearest', cmap=cmap)\n",
    "    plt.title(title, fontsize=30)\n",
    "    plt.colorbar()\n",
    "    tick_marks = np.arange(len(classes))\n",
    "    plt.xticks(tick_marks, classes, rotation=90, fontsize=22)\n",
    "    plt.yticks(tick_marks, classes, fontsize=22)\n",
    "\n",
    "    fmt = '.2f'\n",
    "    thresh = cm.max() / 2.\n",
    "    for i, j in itertools.product(range(cm.shape[0]), range(cm.shape[1])):\n",
    "        plt.text(j, i, format(cm[i, j], fmt),\n",
    "                 horizontalalignment=\"center\",\n",
    "                 color=\"white\" if cm[i, j] > thresh else \"black\")\n",
    "\n",
    "    plt.ylabel('True label', fontsize=25)\n",
    "    plt.xlabel('Predicted label', fontsize=25)"
   ]
  },
  {
   "cell_type": "code",
   "execution_count": 120,
   "metadata": {
    "_uuid": "a57dc6f6211c144491a70f533225edfa95a2dc66"
   },
   "outputs": [
    {
     "data": {
      "image/png": "[encoded data removed]",
      "text/plain": [
       "<Figure size 864x864 with 2 Axes>"
      ]
     },
     "metadata": {
      "needs_background": "light"
     },
     "output_type": "display_data"
    },
    {
     "name": "stdout",
     "output_type": "stream",
     "text": [
      "Wall time: 604 ms\n"
     ]
    }
   ],
   "source": [
    "%%time\n",
    "\n",
    "cnf_matrix = confusion_matrix(y_test_1d, y_pred_1d)\n",
    "plt.figure(figsize=(12,12))\n",
    "plot_confusion_matrix(cnf_matrix, classes=df_train.target.unique(), title=\"Confusion matrix\")\n",
    "plt.show()"
   ]
  },
  {
   "cell_type": "markdown",
   "metadata": {
    "_uuid": "e23b957348dcc084249d3cc7538b972da471c2cd"
   },
   "source": [
    "### Classification Report"
   ]
  },
  {
   "cell_type": "code",
   "execution_count": 121,
   "metadata": {
    "_uuid": "a7fe05b7caa1c984ff1deb0be2f7c6bc043df9f5"
   },
   "outputs": [
    {
     "name": "stdout",
     "output_type": "stream",
     "text": [
      "              precision    recall  f1-score   support\n",
      "\n",
      "    NEGATIVE       0.78      0.76      0.77     40012\n",
      "    POSITIVE       0.77      0.78      0.78     39988\n",
      "\n",
      "    accuracy                           0.77     80000\n",
      "   macro avg       0.77      0.77      0.77     80000\n",
      "weighted avg       0.77      0.77      0.77     80000\n",
      "\n"
     ]
    }
   ],
   "source": [
    "print(classification_report(y_test_1d, y_pred_1d))"
   ]
  },
  {
   "cell_type": "markdown",
   "metadata": {
    "_uuid": "4eb300f0c6693a618587c7dcf32f77f5416cbfb9"
   },
   "source": [
    "### Accuracy Score"
   ]
  },
  {
   "cell_type": "code",
   "execution_count": 122,
   "metadata": {
    "_uuid": "5cf76e6e09f8a60ed25947932b94c772eda44d23"
   },
   "outputs": [
    {
     "data": {
      "text/plain": [
       "0.7746875"
      ]
     },
     "execution_count": 122,
     "metadata": {},
     "output_type": "execute_result"
    }
   ],
   "source": [
    "accuracy_score(y_test_1d, y_pred_1d)"
   ]
  },
  {
   "cell_type": "markdown",
   "metadata": {
    "_uuid": "4f014c32f3833db282e1a075c526604f34e3158c"
   },
   "source": [
    "### Save model"
   ]
  },
  {
   "cell_type": "code",
   "execution_count": 123,
   "metadata": {
    "_uuid": "3b2b3ad5b592977b404acfa1c9ad303a62837255"
   },
   "outputs": [
    {
     "name": "stderr",
     "output_type": "stream",
     "text": [
      "2023-05-11 11:56:27,223 : INFO : Word2Vec lifecycle event {'fname_or_handle': 'model.w2v', 'separately': 'None', 'sep_limit': 10485760, 'ignore': frozenset(), 'datetime': '2023-05-11T11:56:27.223876', 'gensim': '4.3.1', 'python': '3.9.7 (default, Sep 16 2021, 16:59:28) [MSC v.1916 64 bit (AMD64)]', 'platform': 'Windows-10-10.0.22000-SP0', 'event': 'saving'}\n",
      "2023-05-11 11:56:27,239 : INFO : not storing attribute cum_table\n",
      "2023-05-11 11:56:27,958 : INFO : saved model.w2v\n"
     ]
    }
   ],
   "source": [
    "model.save(KERAS_MODEL)\n",
    "w2v_model.save(WORD2VEC_MODEL)\n",
    "pickle.dump(tokenizer, open(TOKENIZER_MODEL, \"wb\"), protocol=0)\n",
    "pickle.dump(encoder, open(ENCODER_MODEL, \"wb\"), protocol=0)"
   ]
  },
  {
   "cell_type": "code",
   "execution_count": null,
   "metadata": {
    "_uuid": "cc363c54782894757f5ea8820c6a170f2e16ef93"
   },
   "outputs": [],
   "source": []
  },
  {
   "cell_type": "code",
   "execution_count": 124,
   "metadata": {},
   "outputs": [],
   "source": [
    "from keras.layers import Embedding, Dropout, Conv1D, GlobalMaxPooling1D, Dense\n",
    "\n",
    "# Создание модели\n",
    "model_cnn = Sequential()\n",
    "\n",
    "# Добавление слоя эмбеддинга\n",
    "model_cnn.add(embedding_layer)\n",
    "\n",
    "# Добавление слоя Dropout\n",
    "model_cnn.add(Dropout(0.5))\n",
    "\n",
    "# Добавление сверточных слоев\n",
    "model_cnn.add(Conv1D(128, 5, activation='relu'))  # 128 фильтров, размер окна 5\n",
    "model_cnn.add(Conv1D(64, 5, activation='relu'))   # 64 фильтра, размер окна 5\n",
    "\n",
    "# Добавление слоя глобального пулинга\n",
    "model_cnn.add(GlobalMaxPooling1D())\n",
    "\n",
    "# Добавление полносвязного слоя\n",
    "model_cnn.add(Dense(1, activation='sigmoid'))\n",
    "\n",
    "# Компиляция модели\n",
    "model_cnn.compile(loss='binary_crossentropy',\n",
    "              optimizer='adam',\n",
    "              metrics=['accuracy'])"
   ]
  },
  {
   "cell_type": "code",
   "execution_count": 125,
   "metadata": {},
   "outputs": [],
   "source": [
    "callbacks = [ ReduceLROnPlateau(monitor='val_loss', patience=5, cooldown=0),\n",
    "              EarlyStopping(monitor='val_accuracy', min_delta=1e-4, patience=5)]"
   ]
  },
  {
   "cell_type": "code",
   "execution_count": 126,
   "metadata": {},
   "outputs": [
    {
     "name": "stdout",
     "output_type": "stream",
     "text": [
      "Epoch 1/8\n",
      "282/282 [==============================] - 516s 2s/step - loss: 0.5732 - accuracy: 0.6982 - val_loss: 0.5073 - val_accuracy: 0.7509 - lr: 0.0010\n",
      "Epoch 2/8\n",
      "282/282 [==============================] - 519s 2s/step - loss: 0.5368 - accuracy: 0.7257 - val_loss: 0.4985 - val_accuracy: 0.7582 - lr: 0.0010\n",
      "Epoch 3/8\n",
      "282/282 [==============================] - 526s 2s/step - loss: 0.5267 - accuracy: 0.7334 - val_loss: 0.4944 - val_accuracy: 0.7598 - lr: 0.0010\n",
      "Epoch 4/8\n",
      "282/282 [==============================] - 529s 2s/step - loss: 0.5210 - accuracy: 0.7373 - val_loss: 0.4902 - val_accuracy: 0.7632 - lr: 0.0010\n",
      "Epoch 5/8\n",
      "282/282 [==============================] - 515s 2s/step - loss: 0.5167 - accuracy: 0.7407 - val_loss: 0.4895 - val_accuracy: 0.7623 - lr: 0.0010\n",
      "Epoch 6/8\n",
      "282/282 [==============================] - 587s 2s/step - loss: 0.5122 - accuracy: 0.7437 - val_loss: 0.4832 - val_accuracy: 0.7645 - lr: 0.0010\n",
      "Epoch 7/8\n",
      "282/282 [==============================] - 542s 2s/step - loss: 0.5097 - accuracy: 0.7461 - val_loss: 0.4817 - val_accuracy: 0.7688 - lr: 0.0010\n",
      "Epoch 8/8\n",
      "282/282 [==============================] - 548s 2s/step - loss: 0.5067 - accuracy: 0.7477 - val_loss: 0.4796 - val_accuracy: 0.7688 - lr: 0.0010\n",
      "Wall time: 1h 11min 20s\n"
     ]
    }
   ],
   "source": [
    "%%time\n",
    "history_cnn = model_cnn.fit(x_train, y_train,\n",
    "                    batch_size=1024,\n",
    "                    epochs=EPOCHS,\n",
    "                    validation_split=0.1,\n",
    "                    verbose=1,\n",
    "                    callbacks=callbacks)"
   ]
  },
  {
   "cell_type": "code",
   "execution_count": 128,
   "metadata": {},
   "outputs": [
    {
     "name": "stdout",
     "output_type": "stream",
     "text": [
      "79/79 [==============================] - 35s 438ms/step - loss: 0.4812 - accuracy: 0.7656\n",
      "\n",
      "ACCURACY: 0.7655624747276306\n",
      "LOSS: 0.48115274310112\n",
      "Wall time: 35 s\n"
     ]
    }
   ],
   "source": [
    "%%time\n",
    "# Evaluate\n",
    "\n",
    "score = model_cnn.evaluate(x_test, y_test, batch_size=BATCH_SIZE)\n",
    "print()\n",
    "print(\"ACCURACY:\",score[1])\n",
    "print(\"LOSS:\",score[0])"
   ]
  },
  {
   "cell_type": "code",
   "execution_count": 129,
   "metadata": {},
   "outputs": [
    {
     "data": {
      "image/png": "[encoded data removed]",
      "text/plain": [
       "<Figure size 432x288 with 1 Axes>"
      ]
     },
     "metadata": {
      "needs_background": "light"
     },
     "output_type": "display_data"
    },
    {
     "data": {
      "image/png": "[encoded data removed]",
      "text/plain": [
       "<Figure size 432x288 with 1 Axes>"
      ]
     },
     "metadata": {
      "needs_background": "light"
     },
     "output_type": "display_data"
    }
   ],
   "source": [
    "acc = history_cnn.history['accuracy']\n",
    "val_acc = history_cnn.history['val_accuracy']\n",
    "loss = history_cnn.history['loss']\n",
    "val_loss = history_cnn.history['val_loss']\n",
    " \n",
    "epochs = range(len(acc))\n",
    " \n",
    "plt.plot(epochs, acc, 'b', label='Training acc')\n",
    "plt.plot(epochs, val_acc, 'r', label='Validation acc')\n",
    "plt.title('Training and validation accuracy')\n",
    "plt.legend()\n",
    " \n",
    "plt.figure()\n",
    " \n",
    "plt.plot(epochs, loss, 'b', label='Training loss')\n",
    "plt.plot(epochs, val_loss, 'r', label='Validation loss')\n",
    "plt.title('Training and validation loss')\n",
    "plt.legend()\n",
    " \n",
    "plt.show()"
   ]
  },
  {
   "cell_type": "code",
   "execution_count": 131,
   "metadata": {},
   "outputs": [],
   "source": [
    "def predict_cnn(text, include_neutral=True):\n",
    "    start_at = time.time()\n",
    "    # Tokenize text\n",
    "    x_test = pad_sequences(tokenizer.texts_to_sequences([text]), maxlen=SEQUENCE_LENGTH)\n",
    "    # Predict\n",
    "    score = model_cnn.predict([x_test])[0]\n",
    "    # Decode sentiment\n",
    "    label = decode_sentiment(score, include_neutral=include_neutral)\n",
    "\n",
    "    return {\"label\": label, \"score\": float(score),\n",
    "       \"elapsed_time\": time.time()-start_at}  "
   ]
  },
  {
   "cell_type": "code",
   "execution_count": 132,
   "metadata": {},
   "outputs": [
    {
     "name": "stdout",
     "output_type": "stream",
     "text": [
      "1/1 [==============================] - 1s 511ms/step\n"
     ]
    },
    {
     "data": {
      "text/plain": [
       "{'label': 'POSITIVE',\n",
       " 'score': 0.8685786724090576,\n",
       " 'elapsed_time': 0.6072733402252197}"
      ]
     },
     "execution_count": 132,
     "metadata": {},
     "output_type": "execute_result"
    }
   ],
   "source": [
    "predict_cnn(\"I adore rabbits\")"
   ]
  },
  {
   "cell_type": "code",
   "execution_count": 139,
   "metadata": {},
   "outputs": [
    {
     "name": "stdout",
     "output_type": "stream",
     "text": [
      "1/1 [==============================] - 0s 29ms/step\n"
     ]
    },
    {
     "data": {
      "text/plain": [
       "{'label': 'NEGATIVE',\n",
       " 'score': 0.06482122838497162,\n",
       " 'elapsed_time': 0.0901937484741211}"
      ]
     },
     "execution_count": 139,
     "metadata": {},
     "output_type": "execute_result"
    }
   ],
   "source": [
    "predict_cnn(\"I hate spiders and scorpions\")"
   ]
  },
  {
   "cell_type": "code",
   "execution_count": 140,
   "metadata": {},
   "outputs": [
    {
     "name": "stdout",
     "output_type": "stream",
     "text": [
      "1/1 [==============================] - 0s 51ms/step\n"
     ]
    },
    {
     "data": {
      "text/plain": [
       "{'label': 'NEUTRAL',\n",
       " 'score': 0.5426803231239319,\n",
       " 'elapsed_time': 0.1047203540802002}"
      ]
     },
     "execution_count": 140,
     "metadata": {},
     "output_type": "execute_result"
    }
   ],
   "source": [
    "predict_cnn(\"it is sunny today\")"
   ]
  },
  {
   "cell_type": "code",
   "execution_count": 141,
   "metadata": {},
   "outputs": [
    {
     "name": "stdout",
     "output_type": "stream",
     "text": [
      "10/10 [==============================] - 40s 4s/step\n"
     ]
    }
   ],
   "source": [
    "y_pred_1d = []\n",
    "y_test_1d = list(df_test.target)\n",
    "scores = model_cnn.predict(x_test, verbose=1, batch_size=8000)\n",
    "y_pred_1d = [decode_sentiment(score, include_neutral=False) for score in scores]"
   ]
  },
  {
   "cell_type": "code",
   "execution_count": 142,
   "metadata": {},
   "outputs": [
    {
     "data": {
      "image/png": "[encoded data removed]",
      "text/plain": [
       "<Figure size 864x864 with 2 Axes>"
      ]
     },
     "metadata": {
      "needs_background": "light"
     },
     "output_type": "display_data"
    }
   ],
   "source": [
    "cnf_matrix = confusion_matrix(y_test_1d, y_pred_1d)\n",
    "plt.figure(figsize=(12,12))\n",
    "plot_confusion_matrix(cnf_matrix, classes=df_train.target.unique(), title=\"Confusion matrix\")\n",
    "plt.show()"
   ]
  },
  {
   "cell_type": "code",
   "execution_count": 143,
   "metadata": {},
   "outputs": [
    {
     "name": "stdout",
     "output_type": "stream",
     "text": [
      "              precision    recall  f1-score   support\n",
      "\n",
      "    NEGATIVE       0.79      0.72      0.75     40012\n",
      "    POSITIVE       0.74      0.81      0.78     39988\n",
      "\n",
      "    accuracy                           0.77     80000\n",
      "   macro avg       0.77      0.77      0.77     80000\n",
      "weighted avg       0.77      0.77      0.77     80000\n",
      "\n"
     ]
    }
   ],
   "source": [
    "print(classification_report(y_test_1d, y_pred_1d))"
   ]
  },
  {
   "cell_type": "code",
   "execution_count": 144,
   "metadata": {},
   "outputs": [
    {
     "data": {
      "text/plain": [
       "0.7655625"
      ]
     },
     "execution_count": 144,
     "metadata": {},
     "output_type": "execute_result"
    }
   ],
   "source": [
    "accuracy_score(y_test_1d, y_pred_1d)"
   ]
  },
  {
   "cell_type": "code",
   "execution_count": null,
   "metadata": {},
   "outputs": [],
   "source": []
  }
 ],
 "metadata": {
  "kernelspec": {
   "display_name": "Python 3 (ipykernel)",
   "language": "python",
   "name": "python3"
  },
  "language_info": {
   "codemirror_mode": {
    "name": "ipython",
    "version": 3
   },
   "file_extension": ".py",
   "mimetype": "text/x-python",
   "name": "python",
   "nbconvert_exporter": "python",
   "pygments_lexer": "ipython3",
   "version": "3.9.7"
  }
 },
 "nbformat": 4,
 "nbformat_minor": 1
}
